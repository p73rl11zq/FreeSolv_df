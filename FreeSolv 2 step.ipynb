{
 "cells": [
  {
   "cell_type": "code",
   "execution_count": 1,
   "id": "90490658-d73d-49f8-a338-4e3b1cd5f627",
   "metadata": {},
   "outputs": [],
   "source": [
    "import pandas as pd\n",
    "import numpy as np\n",
    "import statistics\n",
    "import matplotlib\n",
    "from matplotlib import pyplot as plt\n",
    "import rdkit\n",
    "from rdkit import Chem\n",
    "from rdkit.Chem import PandasTools\n",
    "from rdkit.Chem import Descriptors\n",
    "from rdkit.Chem import AllChem\n",
    "import torch\n",
    "import sklearn\n",
    "import sklearn.linear_model as lm\n",
    "from sklearn.ensemble import RandomForestRegressor\n",
    "from sklearn.ensemble import GradientBoostingRegressor\n",
    "from sklearn.ensemble import BaggingRegressor\n",
    "from sklearn.datasets import make_regression\n",
    "from sklearn.model_selection import cross_validate\n",
    "from sklearn.model_selection import cross_val_score\n",
    "from sklearn.model_selection import train_test_split\n",
    "from sklearn.model_selection import RandomizedSearchCV\n",
    "from sklearn.model_selection import RepeatedStratifiedKFold\n",
    "from sklearn.decomposition import PCA\n",
    "from sklearn.pipeline import Pipeline\n",
    "\n",
    "%matplotlib inline\n",
    "matplotlib.rcParams['figure.figsize'] = (10.0, 7.0)"
   ]
  },
  {
   "cell_type": "code",
   "execution_count": 2,
   "id": "340a431c-4748-470f-aebe-25fcf374e368",
   "metadata": {},
   "outputs": [
    {
     "data": {
      "text/html": [
       "<div>\n",
       "<style scoped>\n",
       "    .dataframe tbody tr th:only-of-type {\n",
       "        vertical-align: middle;\n",
       "    }\n",
       "\n",
       "    .dataframe tbody tr th {\n",
       "        vertical-align: top;\n",
       "    }\n",
       "\n",
       "    .dataframe thead th {\n",
       "        text-align: right;\n",
       "    }\n",
       "</style>\n",
       "<table border=\"1\" class=\"dataframe\">\n",
       "  <thead>\n",
       "    <tr style=\"text-align: right;\">\n",
       "      <th></th>\n",
       "      <th>iupac</th>\n",
       "      <th>smiles</th>\n",
       "      <th>expt</th>\n",
       "      <th>calc</th>\n",
       "    </tr>\n",
       "  </thead>\n",
       "  <tbody>\n",
       "    <tr>\n",
       "      <th>0</th>\n",
       "      <td>4-methoxy-N,N-dimethyl-benzamide</td>\n",
       "      <td>CN(C)C(=O)c1ccc(cc1)OC</td>\n",
       "      <td>-11.01</td>\n",
       "      <td>-9.625</td>\n",
       "    </tr>\n",
       "  </tbody>\n",
       "</table>\n",
       "</div>"
      ],
      "text/plain": [
       "                              iupac                  smiles   expt   calc\n",
       "0  4-methoxy-N,N-dimethyl-benzamide  CN(C)C(=O)c1ccc(cc1)OC -11.01 -9.625"
      ]
     },
     "execution_count": 2,
     "metadata": {},
     "output_type": "execute_result"
    }
   ],
   "source": [
    "data_path = 'z_ML datasets__/'\n",
    "\n",
    "FreeSolve_df = pd.read_csv(data_path + 'SAMPL.csv')\n",
    "\n",
    "FreeSolve_df.head(1)"
   ]
  },
  {
   "cell_type": "code",
   "execution_count": 3,
   "id": "713d432e-5e1f-4dc1-8310-22204cdcb4ac",
   "metadata": {},
   "outputs": [
    {
     "data": {
      "text/html": [
       "<div>\n",
       "<style scoped>\n",
       "    .dataframe tbody tr th:only-of-type {\n",
       "        vertical-align: middle;\n",
       "    }\n",
       "\n",
       "    .dataframe tbody tr th {\n",
       "        vertical-align: top;\n",
       "    }\n",
       "\n",
       "    .dataframe thead th {\n",
       "        text-align: right;\n",
       "    }\n",
       "</style>\n",
       "<table border=\"1\" class=\"dataframe\">\n",
       "  <thead>\n",
       "    <tr style=\"text-align: right;\">\n",
       "      <th></th>\n",
       "      <th>iupac</th>\n",
       "      <th>smiles</th>\n",
       "      <th>expt</th>\n",
       "      <th>calc</th>\n",
       "    </tr>\n",
       "  </thead>\n",
       "  <tbody>\n",
       "    <tr>\n",
       "      <th>179</th>\n",
       "      <td>1,1,1-trimethoxyethane</td>\n",
       "      <td>CC(OC)(OC)OC</td>\n",
       "      <td>-4.42</td>\n",
       "      <td>-3.700</td>\n",
       "    </tr>\n",
       "    <tr>\n",
       "      <th>533</th>\n",
       "      <td>1-phenylethanone</td>\n",
       "      <td>CC(=O)c1ccccc1</td>\n",
       "      <td>-4.58</td>\n",
       "      <td>-5.078</td>\n",
       "    </tr>\n",
       "    <tr>\n",
       "      <th>526</th>\n",
       "      <td>methanethiol</td>\n",
       "      <td>CS</td>\n",
       "      <td>-1.20</td>\n",
       "      <td>-0.273</td>\n",
       "    </tr>\n",
       "  </tbody>\n",
       "</table>\n",
       "</div>"
      ],
      "text/plain": [
       "                      iupac          smiles  expt   calc\n",
       "179  1,1,1-trimethoxyethane    CC(OC)(OC)OC -4.42 -3.700\n",
       "533        1-phenylethanone  CC(=O)c1ccccc1 -4.58 -5.078\n",
       "526            methanethiol              CS -1.20 -0.273"
      ]
     },
     "execution_count": 3,
     "metadata": {},
     "output_type": "execute_result"
    }
   ],
   "source": [
    "seed = 1\n",
    "\n",
    "FreeSolve_df.sample(frac=.8, random_state = seed).head(3)"
   ]
  },
  {
   "cell_type": "code",
   "execution_count": 4,
   "id": "a8c1309e-6849-4207-80eb-d0156362ad40",
   "metadata": {},
   "outputs": [
    {
     "data": {
      "text/html": [
       "<div>\n",
       "<style scoped>\n",
       "    .dataframe tbody tr th:only-of-type {\n",
       "        vertical-align: middle;\n",
       "    }\n",
       "\n",
       "    .dataframe tbody tr th {\n",
       "        vertical-align: top;\n",
       "    }\n",
       "\n",
       "    .dataframe thead th {\n",
       "        text-align: right;\n",
       "    }\n",
       "</style>\n",
       "<table border=\"1\" class=\"dataframe\">\n",
       "  <thead>\n",
       "    <tr style=\"text-align: right;\">\n",
       "      <th></th>\n",
       "      <th>iupac</th>\n",
       "      <th>smiles</th>\n",
       "      <th>expt</th>\n",
       "      <th>calc</th>\n",
       "      <th>ROMol</th>\n",
       "      <th>n_Atoms</th>\n",
       "      <th>Molec_weight</th>\n",
       "      <th>LogP</th>\n",
       "      <th>AP</th>\n",
       "      <th>HA</th>\n",
       "      <th>MaxCharge_abs</th>\n",
       "      <th>MaxCharge</th>\n",
       "    </tr>\n",
       "  </thead>\n",
       "  <tbody>\n",
       "    <tr>\n",
       "      <th>0</th>\n",
       "      <td>4-methoxy-N,N-dimethyl-benzamide</td>\n",
       "      <td>CN(C)C(=O)c1ccc(cc1)OC</td>\n",
       "      <td>-11.01</td>\n",
       "      <td>-9.625</td>\n",
       "      <td><img data-content=\"rdkit/molecule\" src=\"data:image/png;base64,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\" alt=\"Mol\"/></td>\n",
       "      <td>13</td>\n",
       "      <td>179.219</td>\n",
       "      <td>1.397</td>\n",
       "      <td>1</td>\n",
       "      <td>0.076923</td>\n",
       "      <td>0.496768</td>\n",
       "      <td>0.252836</td>\n",
       "    </tr>\n",
       "  </tbody>\n",
       "</table>\n",
       "</div>"
      ],
      "text/plain": [
       "                              iupac                  smiles   expt   calc  \\\n",
       "0  4-methoxy-N,N-dimethyl-benzamide  CN(C)C(=O)c1ccc(cc1)OC -11.01 -9.625   \n",
       "\n",
       "                                               ROMol  n_Atoms  Molec_weight  \\\n",
       "0  <img data-content=\"rdkit/molecule\" src=\"data:i...       13       179.219   \n",
       "\n",
       "    LogP  AP        HA  MaxCharge_abs  MaxCharge  \n",
       "0  1.397   1  0.076923       0.496768   0.252836  "
      ]
     },
     "execution_count": 4,
     "metadata": {},
     "output_type": "execute_result"
    }
   ],
   "source": [
    "PandasTools.AddMoleculeColumnToFrame(FreeSolve_df, smilesCol='smiles')\n",
    "\n",
    "FreeSolve_df['n_Atoms'] = FreeSolve_df['ROMol'].map(lambda x: x.GetNumAtoms())\n",
    " \n",
    "FreeSolve_df['Molec_weight'] = [Descriptors.MolWt(mol) for mol in FreeSolve_df['ROMol']]\n",
    "\n",
    "FreeSolve_df['LogP'] = [Chem.Crippen.MolLogP(mol) for mol in FreeSolve_df['ROMol']]\n",
    "\n",
    "FreeSolve_df['AP'] = [Chem.rdMolDescriptors.CalcNumAromaticRings(mol) for mol in FreeSolve_df['ROMol']]\n",
    "\n",
    "FreeSolve_df['HA'] = [Chem.rdMolDescriptors.CalcNumAromaticRings(mol) / mol.GetNumHeavyAtoms() for mol in FreeSolve_df['ROMol']]\n",
    "\n",
    "FreeSolve_df['MaxCharge_abs'] = [Descriptors.MaxAbsPartialCharge(mol) for mol in FreeSolve_df['ROMol']]\n",
    "\n",
    "FreeSolve_df['MaxCharge'] = [Descriptors.MaxPartialCharge(mol) for mol in FreeSolve_df['ROMol']]\n",
    "\n",
    "#FreeSolve_df = FreeSolve_df.drop(['FP_1'], axis=1)\n",
    "\n",
    "FreeSolve_df.head(1)"
   ]
  },
  {
   "cell_type": "markdown",
   "id": "88cf4319-d768-433e-aef0-3dcce6e1c70b",
   "metadata": {},
   "source": [
    "# Standart SMILES descriptors model"
   ]
  },
  {
   "cell_type": "code",
   "execution_count": 5,
   "id": "e5aea52d-396d-45fe-a6b8-f6dcbadd43cd",
   "metadata": {},
   "outputs": [
    {
     "name": "stdout",
     "output_type": "stream",
     "text": [
      "Train set shape: (514, 12) \n",
      " Test set shape: (128, 12)\n"
     ]
    }
   ],
   "source": [
    "train_df_orig = FreeSolve_df.sample(frac=.8, random_state = seed)\n",
    "test_df_orig = FreeSolve_df[~FreeSolve_df.index.isin(train_df_orig.index)]\n",
    "\n",
    "print('Train set shape:', train_df_orig.shape, '\\n', 'Test set shape:', test_df_orig.shape)"
   ]
  },
  {
   "cell_type": "code",
   "execution_count": 6,
   "id": "f2049ad5-fbee-41d2-b06e-adc9554159ef",
   "metadata": {},
   "outputs": [],
   "source": [
    "target = 'calc'\n",
    "\n",
    "dim = 6\n",
    "\n",
    "signs = ['MaxCharge_abs', 'MaxCharge', 'LogP', 'Molec_weight', 'HA', 'AP']\n",
    "\n",
    "train_y_orig = np.asanyarray(train_df_orig[[target]]).astype(np.float32)\n",
    "train_x_orig = np.asanyarray(train_df_orig[[signs[0],signs[1],signs[2],signs[3],signs[4],signs[5]]]).astype(np.float32)\n",
    "\n",
    "train_x_orig = torch.from_numpy(train_x_orig.reshape(train_x_orig.shape[0], dim))\n",
    "train_y_orig = torch.from_numpy(train_y_orig.reshape(train_y_orig.shape[0], 1))\n",
    "\n",
    "test_y_orig = np.asanyarray(test_df_orig[[target]]).astype(np.float32)\n",
    "test_x_orig = np.asanyarray(test_df_orig[[signs[0],signs[1],signs[2],signs[3],signs[4],signs[5]]]).astype(np.float32)\n",
    "\n",
    "test_x_orig = torch.from_numpy(test_x_orig.reshape(test_x_orig.shape[0], dim))\n",
    "test_y_orig = torch.from_numpy(test_y_orig.reshape(test_y_orig.shape[0], 1))"
   ]
  },
  {
   "cell_type": "code",
   "execution_count": 7,
   "id": "58c8a60c-a4f8-46b1-bd9a-d51b38e21753",
   "metadata": {},
   "outputs": [
    {
     "name": "stdout",
     "output_type": "stream",
     "text": [
      "Cross-val general: 0.803\n",
      "Accuracy: 87.17%\n"
     ]
    }
   ],
   "source": [
    "RF_Reg = RandomForestRegressor(random_state=seed)\n",
    "\n",
    "RF_Reg.fit(train_x_orig, train_y_orig.numpy().ravel())\n",
    "\n",
    "CV_RF = cross_validate(RF_Reg, train_x_orig, train_y_orig.numpy().ravel(), cv=5)\n",
    "\n",
    "CV_RF['test_score'] = np.around(CV_RF['test_score'], 3)\n",
    "\n",
    "print('Cross-val general:', round(np.mean(CV_RF['test_score']), 3))\n",
    "\n",
    "RF_Reg = RF_Reg.predict(test_x_orig)\n",
    "\n",
    "accuracy_RF = sklearn.metrics.r2_score(test_y_orig.detach().numpy(), RF_Reg) \n",
    "\n",
    "accuracy_RF=(round(accuracy_RF*100, 3))\n",
    "\n",
    "print(\"Accuracy: %a\"%accuracy_RF + \"%\") "
   ]
  },
  {
   "cell_type": "markdown",
   "id": "0d051065-c6df-433e-9e69-ef55930ccb63",
   "metadata": {},
   "source": [
    "# Fingerprint dataframes with variable nBits"
   ]
  },
  {
   "cell_type": "code",
   "execution_count": 8,
   "id": "f16add88-e321-43ac-ba56-738568b85cf7",
   "metadata": {},
   "outputs": [],
   "source": [
    "FP_512 = [];    FP_1024 = [];    FP_2048 = [];    FP_4096 = []\n",
    "\n",
    "FP_list = [FP_512, FP_1024, FP_2048, FP_4096]\n",
    "\n",
    "nBits = [512, 1024, 2048, 4096]\n",
    "\n",
    "s_rad = 2\n",
    "\n",
    "for i in range(len(FreeSolve_df['ROMol'])):\n",
    "    \n",
    "    mol512 = AllChem.GetMorganFingerprintAsBitVect(FreeSolve_df['ROMol'][i], s_rad, nBits=512)\n",
    "    \n",
    "    mol1024 = AllChem.GetMorganFingerprintAsBitVect(FreeSolve_df['ROMol'][i], s_rad, nBits=1024)\n",
    "    \n",
    "    mol2048 = AllChem.GetMorganFingerprintAsBitVect(FreeSolve_df['ROMol'][i], s_rad, nBits=2048)\n",
    "    \n",
    "    mol4096 = AllChem.GetMorganFingerprintAsBitVect(FreeSolve_df['ROMol'][i], s_rad, nBits=4096)\n",
    "    \n",
    "    FP_list[0].append(mol512)\n",
    "    \n",
    "    FP_list[1].append(mol1024)\n",
    "    \n",
    "    FP_list[2].append(mol2048)\n",
    "    \n",
    "    FP_list[3].append(mol4096)"
   ]
  },
  {
   "cell_type": "code",
   "execution_count": 9,
   "id": "292bbabe-ece3-4f1c-a932-69da565c180f",
   "metadata": {},
   "outputs": [],
   "source": [
    "df_y = pd.DataFrame(np.asanyarray(FreeSolve_df['calc']))\n",
    "\n",
    "\n",
    "train_y = df_y.sample(frac=.8, random_state = seed)\n",
    "\n",
    "test_y = df_y[~df_y.index.isin(train_y.index)]\n",
    "\n",
    "\n",
    "FP_df512 = pd.DataFrame(np.asanyarray(FP_512))\n",
    "\n",
    "train_x512 = FP_df512.sample(frac=.8, random_state = seed)\n",
    "\n",
    "test_x512 = FP_df512[~FP_df512.index.isin(train_x512.index)]\n",
    "\n",
    "\n",
    "FP_df1024 = pd.DataFrame(np.asanyarray(FP_1024))\n",
    "\n",
    "train_x1024 = FP_df1024.sample(frac=.8, random_state = seed)\n",
    "\n",
    "test_x1024 = FP_df1024[~FP_df1024.index.isin(train_x1024.index)]\n",
    "\n",
    "\n",
    "FP_df2048 = pd.DataFrame(np.asanyarray(FP_2048))\n",
    "\n",
    "train_x2048 = FP_df2048.sample(frac=.8, random_state = seed)\n",
    "\n",
    "test_x2048 = FP_df2048[~FP_df2048.index.isin(train_x2048.index)]\n",
    "\n",
    "\n",
    "FP_df4096 = pd.DataFrame(np.asanyarray(FP_4096))\n",
    "\n",
    "train_x4096 = FP_df4096.sample(frac=.8, random_state = seed)\n",
    "\n",
    "test_x4096 = FP_df4096[~FP_df4096.index.isin(train_x4096.index)]"
   ]
  },
  {
   "cell_type": "markdown",
   "id": "ba2acae9-8518-4b8a-8f7a-01727d573f18",
   "metadata": {
    "tags": []
   },
   "source": [
    "# PCA construction"
   ]
  },
  {
   "cell_type": "code",
   "execution_count": 10,
   "id": "5e52f3ec-0057-42e9-be50-0e6fa3df7afb",
   "metadata": {},
   "outputs": [],
   "source": [
    "FP_df_list = [FP_df512, FP_df1024, FP_df2048, FP_df4096]\n",
    "\n",
    "#PCA has limits of offered bits (<= df.shape[0])\n",
    "\n",
    "n_com_list_512 = [32, 8, 6]\n",
    "\n",
    "n_com_list_1024 = [64, 16, 6]\n",
    "\n",
    "n_com_list_2048 = [128, 32, 6]\n",
    "\n",
    "n_com_list_4096 = [256, 64, 6]\n",
    "\n",
    "general_n_list = [n_com_list_512, n_com_list_1024, n_com_list_2048, n_com_list_4096]\n",
    "\n",
    "accuracy_list = []\n",
    "\n",
    "CV_list = []\n",
    "\n",
    "CV_std_list = []"
   ]
  },
  {
   "cell_type": "code",
   "execution_count": 11,
   "id": "ebc3ded3-b6fe-42ee-a44c-6477c72485e1",
   "metadata": {},
   "outputs": [],
   "source": [
    "def dimensionality_reduction(n_components_list, FP_df_list_index, accuracy_list, CV_list):\n",
    "\n",
    "    for i in range(len(n_components_list)):\n",
    "    \n",
    "        print(\"Reduction to %a\"%n_components_list[i] + \" bits\") \n",
    "    \n",
    "        pca_reducted = PCA(n_components = n_components_list[i])\n",
    "\n",
    "        FP_df_reducted =  pd.DataFrame(pca_reducted.fit_transform(FP_df_list_index))\n",
    "\n",
    "        train_x_reducted = FP_df_reducted.sample(frac=.8, random_state = seed)\n",
    "\n",
    "        test_x_reducted = FP_df_reducted[~FP_df_reducted.index.isin(train_x_reducted.index)]\n",
    "    \n",
    "        RF_Reg_reducted = RandomForestRegressor(random_state=seed)\n",
    "\n",
    "        RF_Reg_reducted.fit(train_x_reducted, train_y[0])\n",
    "\n",
    "        CV_RF_reducted = cross_validate(RF_Reg_reducted, train_x_reducted, train_y[0], cv=5)\n",
    "        \n",
    "        CV_std_list.append(round(np.std(CV_RF_reducted['test_score']), 3))\n",
    "    \n",
    "        CV_RF_reducted['test_score'] = np.around(CV_RF_reducted['test_score'], 3)\n",
    "        \n",
    "        CV_RF_reducted = round(np.mean(CV_RF_reducted['test_score']), 3)\n",
    "      \n",
    "        print('Cross-val general:', CV_RF_reducted)\n",
    "    \n",
    "        RF_Reg_reducted = RF_Reg_reducted.predict(test_x_reducted)\n",
    "\n",
    "        accuracy_RF_reducted = sklearn.metrics.r2_score(test_y[0], RF_Reg_reducted) \n",
    "\n",
    "        accuracy_RF_reducted = (round(accuracy_RF_reducted*100, 3))\n",
    "        \n",
    "        accuracy_list.append(accuracy_RF_reducted)\n",
    "  \n",
    "        CV_list.append(CV_RF_reducted)\n",
    "\n",
    "        print(\"Accuracy: %a\"%accuracy_RF_reducted + \"%\" + \"\\n\") "
   ]
  },
  {
   "cell_type": "markdown",
   "id": "415e3e59-8619-493e-9b43-ac8f7f40aa16",
   "metadata": {
    "tags": []
   },
   "source": [
    "# Fingerprints dataframes applied to Random Forest "
   ]
  },
  {
   "cell_type": "markdown",
   "id": "4b4c57f6-b106-430e-9576-34d96943b902",
   "metadata": {},
   "source": [
    "512 bits"
   ]
  },
  {
   "cell_type": "code",
   "execution_count": 12,
   "id": "ed49b32b-a027-4026-b3da-f53c0ae67825",
   "metadata": {},
   "outputs": [
    {
     "name": "stdout",
     "output_type": "stream",
     "text": [
      "Cross-val general: 0.731\n",
      "Accuracy: 69.51%\n",
      "\n"
     ]
    }
   ],
   "source": [
    "RF_Reg512 = RandomForestRegressor(random_state=seed)\n",
    "\n",
    "RF_Reg512.fit(train_x512, train_y[0])\n",
    "\n",
    "CV_RF_512 = cross_validate(RF_Reg512, train_x512, train_y[0], cv=5)\n",
    "\n",
    "CV_std_list.append(round(np.std(CV_RF_512['test_score']), 3))\n",
    "    \n",
    "CV_RF_512['test_score'] = np.around(CV_RF_512['test_score'], 3)\n",
    "\n",
    "CV_RF_512 = round(np.mean(CV_RF_512['test_score']), 3)\n",
    "      \n",
    "print('Cross-val general:', CV_RF_512)\n",
    "    \n",
    "RF_Reg512 = RF_Reg512.predict(test_x512)\n",
    "\n",
    "accuracy_RF_512 = sklearn.metrics.r2_score(test_y[0], RF_Reg512) \n",
    "\n",
    "accuracy_RF_512 = (round(accuracy_RF_512*100, 3))\n",
    "\n",
    "accuracy_list.append(accuracy_RF_512)\n",
    "\n",
    "CV_list.append(CV_RF_512)\n",
    "\n",
    "print(\"Accuracy: %a\"%accuracy_RF_512 + \"%\" + \"\\n\") "
   ]
  },
  {
   "cell_type": "code",
   "execution_count": 13,
   "id": "31ef3da0-a8cd-4b65-b385-62ab52badca5",
   "metadata": {},
   "outputs": [
    {
     "name": "stdout",
     "output_type": "stream",
     "text": [
      "Reduction to 32 bits\n",
      "Cross-val general: 0.606\n",
      "Accuracy: 67.005%\n",
      "\n",
      "Reduction to 8 bits\n",
      "Cross-val general: 0.466\n",
      "Accuracy: 63.855%\n",
      "\n",
      "Reduction to 6 bits\n",
      "Cross-val general: 0.453\n",
      "Accuracy: 61.844%\n",
      "\n",
      "-------------------------------------\n"
     ]
    }
   ],
   "source": [
    "dimensionality_reduction(general_n_list[0], FP_df_list[0], accuracy_list, CV_list)\n",
    "\n",
    "print(\"-------------------------------------\")"
   ]
  },
  {
   "cell_type": "markdown",
   "id": "2060d303-3cb0-42d9-8bd4-f5e09d33819b",
   "metadata": {},
   "source": [
    "1024 bits"
   ]
  },
  {
   "cell_type": "code",
   "execution_count": 14,
   "id": "1705f041-a329-4f0b-bc85-5c87313d1218",
   "metadata": {},
   "outputs": [
    {
     "name": "stdout",
     "output_type": "stream",
     "text": [
      "Cross-val general: 0.733\n",
      "Accuracy: 69.643%\n",
      "\n"
     ]
    }
   ],
   "source": [
    "RF_Reg1024 = RandomForestRegressor(random_state=seed)\n",
    "\n",
    "RF_Reg1024.fit(train_x1024, train_y[0])\n",
    "\n",
    "CV_RF_1024 = cross_validate(RF_Reg1024, train_x1024, train_y[0], cv=5)\n",
    "\n",
    "CV_std_list.append(round(np.std(CV_RF_1024['test_score']), 3))\n",
    "    \n",
    "CV_RF_1024['test_score'] = np.around(CV_RF_1024['test_score'], 3)\n",
    "\n",
    "CV_RF_1024 = round(np.mean(CV_RF_1024['test_score']), 3)\n",
    "    \n",
    "print('Cross-val general:', CV_RF_1024)\n",
    "    \n",
    "RF_Reg1024 = RF_Reg1024.predict(test_x1024)\n",
    "\n",
    "accuracy_RF_1024 = sklearn.metrics.r2_score(test_y[0], RF_Reg1024) \n",
    "\n",
    "accuracy_RF_1024 = (round(accuracy_RF_1024*100, 3))\n",
    "\n",
    "accuracy_list.append(accuracy_RF_1024)\n",
    "\n",
    "CV_list.append(CV_RF_1024)\n",
    "\n",
    "print(\"Accuracy: %a\"%accuracy_RF_1024 + \"%\" + \"\\n\") "
   ]
  },
  {
   "cell_type": "code",
   "execution_count": 15,
   "id": "b90686f4-c11f-48c4-b656-4e8feefcb7b2",
   "metadata": {},
   "outputs": [
    {
     "name": "stdout",
     "output_type": "stream",
     "text": [
      "Reduction to 64 bits\n",
      "Cross-val general: 0.657\n",
      "Accuracy: 70.999%\n",
      "\n",
      "Reduction to 16 bits\n",
      "Cross-val general: 0.612\n",
      "Accuracy: 67.054%\n",
      "\n",
      "Reduction to 6 bits\n",
      "Cross-val general: 0.509\n",
      "Accuracy: 55.659%\n",
      "\n",
      "-------------------------------------\n"
     ]
    }
   ],
   "source": [
    "dimensionality_reduction(general_n_list[1], FP_df_list[1], accuracy_list, CV_list)\n",
    "\n",
    "print(\"-------------------------------------\")"
   ]
  },
  {
   "cell_type": "markdown",
   "id": "8e48424b-0e31-4ff2-99bb-c0d918ad4a5f",
   "metadata": {},
   "source": [
    "2048 bits"
   ]
  },
  {
   "cell_type": "code",
   "execution_count": 16,
   "id": "e00bf68f-b6de-4532-99d9-9e2490af5a00",
   "metadata": {},
   "outputs": [
    {
     "name": "stdout",
     "output_type": "stream",
     "text": [
      "Cross-val general: 0.725\n",
      "Accuracy: 71.624%\n",
      "\n"
     ]
    }
   ],
   "source": [
    "RF_Reg2048 = RandomForestRegressor(random_state=seed)\n",
    "\n",
    "RF_Reg2048.fit(train_x2048, train_y[0])\n",
    "\n",
    "CV_RF_2048 = cross_validate(RF_Reg2048, train_x2048, train_y[0], cv=5)\n",
    "\n",
    "CV_std_list.append(round(np.std(CV_RF_2048['test_score']), 3))\n",
    "    \n",
    "CV_RF_2048['test_score'] = np.around(CV_RF_2048['test_score'], 3)\n",
    "    \n",
    "CV_RF_2048 = round(np.mean(CV_RF_2048['test_score']), 3)\n",
    "    \n",
    "print('Cross-val general:', CV_RF_2048)\n",
    "    \n",
    "RF_Reg2048 = RF_Reg2048.predict(test_x2048)\n",
    "\n",
    "accuracy_RF_2048 = sklearn.metrics.r2_score(test_y[0], RF_Reg2048) \n",
    "\n",
    "accuracy_RF_2048 = (round(accuracy_RF_2048*100, 3))\n",
    "\n",
    "accuracy_list.append(accuracy_RF_2048)\n",
    "\n",
    "CV_list.append(CV_RF_2048)\n",
    "\n",
    "print(\"Accuracy: %a\"%accuracy_RF_2048 + \"%\" + \"\\n\") "
   ]
  },
  {
   "cell_type": "code",
   "execution_count": 17,
   "id": "2c3b0c94-cc95-42ef-ba8f-380e6eed0358",
   "metadata": {},
   "outputs": [
    {
     "name": "stdout",
     "output_type": "stream",
     "text": [
      "Reduction to 128 bits\n",
      "Cross-val general: 0.592\n",
      "Accuracy: 67.86%\n",
      "\n",
      "Reduction to 32 bits\n",
      "Cross-val general: 0.673\n",
      "Accuracy: 71.243%\n",
      "\n",
      "Reduction to 6 bits\n",
      "Cross-val general: 0.471\n",
      "Accuracy: 58.941%\n",
      "\n",
      "-------------------------------------\n"
     ]
    }
   ],
   "source": [
    "dimensionality_reduction(general_n_list[2], FP_df_list[2], accuracy_list, CV_list)\n",
    "\n",
    "print(\"-------------------------------------\")"
   ]
  },
  {
   "cell_type": "markdown",
   "id": "3c7085d9-af17-4414-bb10-0150f436706b",
   "metadata": {},
   "source": [
    "4096 bits"
   ]
  },
  {
   "cell_type": "code",
   "execution_count": 18,
   "id": "a61f0569-c600-410e-96ff-12a38f2e609a",
   "metadata": {},
   "outputs": [
    {
     "name": "stdout",
     "output_type": "stream",
     "text": [
      "Cross-val general: 0.748\n",
      "Accuracy: 73.48%\n",
      "\n"
     ]
    }
   ],
   "source": [
    "RF_Reg4096 = RandomForestRegressor(random_state=seed)\n",
    "\n",
    "RF_Reg4096.fit(train_x4096, train_y[0])\n",
    "\n",
    "CV_RF_4096 = cross_validate(RF_Reg4096, train_x4096, train_y[0], cv=5)\n",
    "\n",
    "CV_std_list.append(round(np.std(CV_RF_4096['test_score']), 3))\n",
    "    \n",
    "CV_RF_4096['test_score'] = np.around(CV_RF_4096['test_score'], 3)\n",
    "\n",
    "CV_RF_4096 = round(np.mean(CV_RF_4096['test_score']), 3)\n",
    "    \n",
    "print('Cross-val general:', CV_RF_4096)\n",
    "    \n",
    "RF_Reg4096 = RF_Reg4096.predict(test_x4096)\n",
    "\n",
    "accuracy_RF_4096 = sklearn.metrics.r2_score(test_y[0], RF_Reg4096) \n",
    "\n",
    "accuracy_RF_4096 = (round(accuracy_RF_4096*100, 3))\n",
    "\n",
    "accuracy_list.append(accuracy_RF_4096)\n",
    "\n",
    "CV_list.append(CV_RF_4096)\n",
    "\n",
    "print(\"Accuracy: %a\"%accuracy_RF_4096 + \"%\" + \"\\n\")"
   ]
  },
  {
   "cell_type": "code",
   "execution_count": 19,
   "id": "0894cd27-495b-4e8f-b69d-d2addcc6ce3a",
   "metadata": {},
   "outputs": [
    {
     "name": "stdout",
     "output_type": "stream",
     "text": [
      "Reduction to 256 bits\n",
      "Cross-val general: 0.605\n",
      "Accuracy: 63.58%\n",
      "\n",
      "Reduction to 64 bits\n",
      "Cross-val general: 0.663\n",
      "Accuracy: 67.334%\n",
      "\n",
      "Reduction to 6 bits\n",
      "Cross-val general: 0.448\n",
      "Accuracy: 58.411%\n",
      "\n",
      "-------------------------------------\n"
     ]
    }
   ],
   "source": [
    "dimensionality_reduction(general_n_list[3], FP_df_list[3], accuracy_list, CV_list)\n",
    "\n",
    "print(\"-------------------------------------\")"
   ]
  },
  {
   "cell_type": "markdown",
   "id": "a818811a-3de4-4126-8ab7-e46e4878f538",
   "metadata": {},
   "source": [
    "# Comparison"
   ]
  },
  {
   "cell_type": "markdown",
   "id": "fe7f1e13-8dd4-4bd2-8f26-29834356f88f",
   "metadata": {},
   "source": [
    "- The last number bits for reduction (= 6) serve as the measure between fingerprints features model and model with 6 features got from smiles (\"Standart SMILES descriptors model\" section)"
   ]
  },
  {
   "cell_type": "code",
   "execution_count": 20,
   "id": "ba6fe5b4-8eea-4ff9-bd71-c624a9a79ccc",
   "metadata": {},
   "outputs": [],
   "source": [
    "types_RF_list = [\n",
    "                 'RF 512 (standart)', 'RF 512 (to %a'%(n_com_list_512[0])+' bits)', 'RF 512 (to %a'%(n_com_list_512[1])+' bits)', 'RF 512 (to %a'%(n_com_list_512[2])+' bits)',\n",
    "                 'RF 1024 (standart)', 'RF 1024 (to %a'%(n_com_list_1024[0])+' bits)', 'RF 1024 (to %a'%(n_com_list_1024[1])+' bits)', 'RF 1024 (to %a'%(n_com_list_1024[2])+' bits)',\n",
    "                 'RF 2048 (standart)', 'RF 2048 (to %a'%(n_com_list_2048[0])+' bits)', 'RF 2048 (to %a'%(n_com_list_2048[1])+' bits)', 'RF 2048 (to %a'%(n_com_list_2048[2])+' bits)',\n",
    "                 'RF 4096 (standart)', 'RF 4096 (to %a'%(n_com_list_4096[0])+' bits)', 'RF 4096 (to %a'%(n_com_list_4096[1])+' bits)', 'RF 4096 (to %a'%(n_com_list_4096[2])+' bits)'\n",
    "                 ]\n",
    "\n",
    "CV_RF_list = [CV_RF_512, CV_RF_1024, CV_RF_2048, CV_RF_4096]"
   ]
  },
  {
   "cell_type": "markdown",
   "id": "0267f918-e6c4-4c06-9bc4-2ae732696c24",
   "metadata": {},
   "source": [
    "- Because of cyclical way of saving the values (Accuracy, CV_score, CV_std), all models must be strictly launched one after another (according the order of their enumerating and writing) to make the results displaying correct"
   ]
  },
  {
   "cell_type": "code",
   "execution_count": 21,
   "id": "1a061126-a682-4a2a-afc0-31d976f8dd82",
   "metadata": {},
   "outputs": [
    {
     "data": {
      "text/html": [
       "<div>\n",
       "<style scoped>\n",
       "    .dataframe tbody tr th:only-of-type {\n",
       "        vertical-align: middle;\n",
       "    }\n",
       "\n",
       "    .dataframe tbody tr th {\n",
       "        vertical-align: top;\n",
       "    }\n",
       "\n",
       "    .dataframe thead th {\n",
       "        text-align: right;\n",
       "    }\n",
       "</style>\n",
       "<table border=\"1\" class=\"dataframe\">\n",
       "  <thead>\n",
       "    <tr style=\"text-align: right;\">\n",
       "      <th></th>\n",
       "      <th>Regression type</th>\n",
       "      <th>Accuracy, %</th>\n",
       "      <th>CV_score</th>\n",
       "      <th>CV_std</th>\n",
       "    </tr>\n",
       "  </thead>\n",
       "  <tbody>\n",
       "    <tr>\n",
       "      <th>0</th>\n",
       "      <td>RF 512 (standart)</td>\n",
       "      <td>69.510</td>\n",
       "      <td>0.731</td>\n",
       "      <td>0.041</td>\n",
       "    </tr>\n",
       "    <tr>\n",
       "      <th>1</th>\n",
       "      <td>RF 512 (to 32 bits)</td>\n",
       "      <td>67.005</td>\n",
       "      <td>0.606</td>\n",
       "      <td>0.060</td>\n",
       "    </tr>\n",
       "    <tr>\n",
       "      <th>2</th>\n",
       "      <td>RF 512 (to 8 bits)</td>\n",
       "      <td>63.855</td>\n",
       "      <td>0.466</td>\n",
       "      <td>0.041</td>\n",
       "    </tr>\n",
       "    <tr>\n",
       "      <th>3</th>\n",
       "      <td>RF 512 (to 6 bits)</td>\n",
       "      <td>61.844</td>\n",
       "      <td>0.453</td>\n",
       "      <td>0.052</td>\n",
       "    </tr>\n",
       "    <tr>\n",
       "      <th>4</th>\n",
       "      <td>RF 1024 (standart)</td>\n",
       "      <td>69.643</td>\n",
       "      <td>0.733</td>\n",
       "      <td>0.038</td>\n",
       "    </tr>\n",
       "    <tr>\n",
       "      <th>5</th>\n",
       "      <td>RF 1024 (to 64 bits)</td>\n",
       "      <td>70.999</td>\n",
       "      <td>0.657</td>\n",
       "      <td>0.036</td>\n",
       "    </tr>\n",
       "    <tr>\n",
       "      <th>6</th>\n",
       "      <td>RF 1024 (to 16 bits)</td>\n",
       "      <td>67.054</td>\n",
       "      <td>0.612</td>\n",
       "      <td>0.060</td>\n",
       "    </tr>\n",
       "    <tr>\n",
       "      <th>7</th>\n",
       "      <td>RF 1024 (to 6 bits)</td>\n",
       "      <td>55.659</td>\n",
       "      <td>0.509</td>\n",
       "      <td>0.052</td>\n",
       "    </tr>\n",
       "    <tr>\n",
       "      <th>8</th>\n",
       "      <td>RF 2048 (standart)</td>\n",
       "      <td>71.624</td>\n",
       "      <td>0.725</td>\n",
       "      <td>0.038</td>\n",
       "    </tr>\n",
       "    <tr>\n",
       "      <th>9</th>\n",
       "      <td>RF 2048 (to 128 bits)</td>\n",
       "      <td>67.860</td>\n",
       "      <td>0.592</td>\n",
       "      <td>0.061</td>\n",
       "    </tr>\n",
       "    <tr>\n",
       "      <th>10</th>\n",
       "      <td>RF 2048 (to 32 bits)</td>\n",
       "      <td>71.243</td>\n",
       "      <td>0.673</td>\n",
       "      <td>0.058</td>\n",
       "    </tr>\n",
       "    <tr>\n",
       "      <th>11</th>\n",
       "      <td>RF 2048 (to 6 bits)</td>\n",
       "      <td>58.941</td>\n",
       "      <td>0.471</td>\n",
       "      <td>0.051</td>\n",
       "    </tr>\n",
       "    <tr>\n",
       "      <th>12</th>\n",
       "      <td>RF 4096 (standart)</td>\n",
       "      <td>73.480</td>\n",
       "      <td>0.748</td>\n",
       "      <td>0.029</td>\n",
       "    </tr>\n",
       "    <tr>\n",
       "      <th>13</th>\n",
       "      <td>RF 4096 (to 256 bits)</td>\n",
       "      <td>63.580</td>\n",
       "      <td>0.605</td>\n",
       "      <td>0.041</td>\n",
       "    </tr>\n",
       "    <tr>\n",
       "      <th>14</th>\n",
       "      <td>RF 4096 (to 64 bits)</td>\n",
       "      <td>67.334</td>\n",
       "      <td>0.663</td>\n",
       "      <td>0.058</td>\n",
       "    </tr>\n",
       "    <tr>\n",
       "      <th>15</th>\n",
       "      <td>RF 4096 (to 6 bits)</td>\n",
       "      <td>58.411</td>\n",
       "      <td>0.448</td>\n",
       "      <td>0.051</td>\n",
       "    </tr>\n",
       "  </tbody>\n",
       "</table>\n",
       "</div>"
      ],
      "text/plain": [
       "          Regression type  Accuracy, %  CV_score  CV_std\n",
       "0       RF 512 (standart)       69.510     0.731   0.041\n",
       "1     RF 512 (to 32 bits)       67.005     0.606   0.060\n",
       "2      RF 512 (to 8 bits)       63.855     0.466   0.041\n",
       "3      RF 512 (to 6 bits)       61.844     0.453   0.052\n",
       "4      RF 1024 (standart)       69.643     0.733   0.038\n",
       "5    RF 1024 (to 64 bits)       70.999     0.657   0.036\n",
       "6    RF 1024 (to 16 bits)       67.054     0.612   0.060\n",
       "7     RF 1024 (to 6 bits)       55.659     0.509   0.052\n",
       "8      RF 2048 (standart)       71.624     0.725   0.038\n",
       "9   RF 2048 (to 128 bits)       67.860     0.592   0.061\n",
       "10   RF 2048 (to 32 bits)       71.243     0.673   0.058\n",
       "11    RF 2048 (to 6 bits)       58.941     0.471   0.051\n",
       "12     RF 4096 (standart)       73.480     0.748   0.029\n",
       "13  RF 4096 (to 256 bits)       63.580     0.605   0.041\n",
       "14   RF 4096 (to 64 bits)       67.334     0.663   0.058\n",
       "15    RF 4096 (to 6 bits)       58.411     0.448   0.051"
      ]
     },
     "execution_count": 21,
     "metadata": {},
     "output_type": "execute_result"
    }
   ],
   "source": [
    "rfscore_df = pd.DataFrame()\n",
    "\n",
    "atr = 'test_score'\n",
    "\n",
    "rfscore_df[\"Regression type\"] =  [types_RF_list[i] for i in range(len(types_RF_list))]\n",
    "\n",
    "rfscore_df[\"Accuracy, %\"] = [accuracy_list[i] for i in range(len(accuracy_list))]\n",
    "\n",
    "rfscore_df[\"CV_score\"] = [CV_list[i] for i in range(len(CV_list))]\n",
    "\n",
    "rfscore_df[\"CV_std\"] = [CV_std_list[i] for i in range(len(CV_std_list))]\n",
    "\n",
    "#rfscore_df[\"CV_score_general\"] = [np.mean(CV[atr][:]) for CV in CV_RF_list]\n",
    "\n",
    "rfscore_df"
   ]
  }
 ],
 "metadata": {
  "kernelspec": {
   "display_name": "Python 3 (ipykernel)",
   "language": "python",
   "name": "python3"
  },
  "language_info": {
   "codemirror_mode": {
    "name": "ipython",
    "version": 3
   },
   "file_extension": ".py",
   "mimetype": "text/x-python",
   "name": "python",
   "nbconvert_exporter": "python",
   "pygments_lexer": "ipython3",
   "version": "3.9.12"
  }
 },
 "nbformat": 4,
 "nbformat_minor": 5
}
