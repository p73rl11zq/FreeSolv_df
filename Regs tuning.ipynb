{
 "cells": [
  {
   "cell_type": "code",
   "execution_count": null,
   "id": "31b6625e-b607-4507-9034-b9e795b246b1",
   "metadata": {},
   "outputs": [],
   "source": [
    "import pandas as pd\n",
    "import numpy as np\n",
    "import matplotlib\n",
    "from matplotlib import pyplot as plt\n",
    "import rdkit\n",
    "from rdkit import Chem\n",
    "from rdkit.Chem import PandasTools\n",
    "from rdkit.Chem import Descriptors\n",
    "from rdkit.Chem import AllChem\n",
    "import torch\n",
    "import sklearn\n",
    "from sklearn.ensemble import RandomForestRegressor\n",
    "from sklearn.ensemble import GradientBoostingRegressor\n",
    "from sklearn.ensemble import BaggingRegressor\n",
    "from sklearn.model_selection import cross_validate\n",
    "\n",
    "\n",
    "%matplotlib inline\n",
    "matplotlib.rcParams['figure.figsize'] = (7, 5)"
   ]
  },
  {
   "cell_type": "markdown",
   "id": "423a96e6-5a4e-4d59-8178-9a8a389ee31a",
   "metadata": {
    "tags": []
   },
   "source": [
    "# Data reading"
   ]
  },
  {
   "cell_type": "code",
   "execution_count": 2,
   "id": "a02266b0-7529-4ad1-9459-f08e9c433345",
   "metadata": {},
   "outputs": [
    {
     "data": {
      "text/html": [
       "<div>\n",
       "<style scoped>\n",
       "    .dataframe tbody tr th:only-of-type {\n",
       "        vertical-align: middle;\n",
       "    }\n",
       "\n",
       "    .dataframe tbody tr th {\n",
       "        vertical-align: top;\n",
       "    }\n",
       "\n",
       "    .dataframe thead th {\n",
       "        text-align: right;\n",
       "    }\n",
       "</style>\n",
       "<table border=\"1\" class=\"dataframe\">\n",
       "  <thead>\n",
       "    <tr style=\"text-align: right;\">\n",
       "      <th></th>\n",
       "      <th>iupac</th>\n",
       "      <th>smiles</th>\n",
       "      <th>expt</th>\n",
       "      <th>calc</th>\n",
       "    </tr>\n",
       "  </thead>\n",
       "  <tbody>\n",
       "    <tr>\n",
       "      <th>0</th>\n",
       "      <td>4-methoxy-N,N-dimethyl-benzamide</td>\n",
       "      <td>CN(C)C(=O)c1ccc(cc1)OC</td>\n",
       "      <td>-11.01</td>\n",
       "      <td>-9.625</td>\n",
       "    </tr>\n",
       "  </tbody>\n",
       "</table>\n",
       "</div>"
      ],
      "text/plain": [
       "                              iupac                  smiles   expt   calc\n",
       "0  4-methoxy-N,N-dimethyl-benzamide  CN(C)C(=O)c1ccc(cc1)OC -11.01 -9.625"
      ]
     },
     "execution_count": 2,
     "metadata": {},
     "output_type": "execute_result"
    }
   ],
   "source": [
    "data_path = 'z_ML datasets__/'\n",
    "\n",
    "FreeSolve_df = pd.read_csv(data_path + 'SAMPL.csv')\n",
    "\n",
    "FreeSolve_df.head(1)"
   ]
  },
  {
   "cell_type": "code",
   "execution_count": 3,
   "id": "6a46f061-faa3-49f7-a490-2c852b542ca6",
   "metadata": {},
   "outputs": [
    {
     "data": {
      "image/png": "[encoded data removed]",
      "text/plain": [
       "<Figure size 504x360 with 1 Axes>"
      ]
     },
     "metadata": {
      "needs_background": "light"
     },
     "output_type": "display_data"
    }
   ],
   "source": [
    "# plot below is taken from dataset creator article; it reflects general form of dependence between predicted value and calculated\n",
    "\n",
    "FreeSolve_df.plot(x='expt', y='calc', style='o')  \n",
    "\n",
    "plt.title('expt vs calc')  \n",
    "\n",
    "plt.xlabel('expt');  plt.ylabel('calc');\n",
    "\n",
    "plt.show()"
   ]
  },
  {
   "cell_type": "markdown",
   "id": "e5a9f500-e038-444a-9d54-caba0b8abd12",
   "metadata": {
    "tags": []
   },
   "source": [
    "# Data processing"
   ]
  },
  {
   "cell_type": "code",
   "execution_count": 4,
   "id": "d22b2169-e604-4577-9254-65c72ccae0e6",
   "metadata": {
    "tags": []
   },
   "outputs": [
    {
     "data": {
      "text/html": [
       "<div>\n",
       "<style scoped>\n",
       "    .dataframe tbody tr th:only-of-type {\n",
       "        vertical-align: middle;\n",
       "    }\n",
       "\n",
       "    .dataframe tbody tr th {\n",
       "        vertical-align: top;\n",
       "    }\n",
       "\n",
       "    .dataframe thead th {\n",
       "        text-align: right;\n",
       "    }\n",
       "</style>\n",
       "<table border=\"1\" class=\"dataframe\">\n",
       "  <thead>\n",
       "    <tr style=\"text-align: right;\">\n",
       "      <th></th>\n",
       "      <th>iupac</th>\n",
       "      <th>smiles</th>\n",
       "      <th>expt</th>\n",
       "      <th>calc</th>\n",
       "      <th>ROMol</th>\n",
       "      <th>n_Atoms</th>\n",
       "      <th>Molec_weight</th>\n",
       "      <th>LogP</th>\n",
       "      <th>AP</th>\n",
       "      <th>HA</th>\n",
       "      <th>MaxCharge_abs</th>\n",
       "      <th>MaxCharge</th>\n",
       "    </tr>\n",
       "  </thead>\n",
       "  <tbody>\n",
       "    <tr>\n",
       "      <th>0</th>\n",
       "      <td>4-methoxy-N,N-dimethyl-benzamide</td>\n",
       "      <td>CN(C)C(=O)c1ccc(cc1)OC</td>\n",
       "      <td>-11.01</td>\n",
       "      <td>-9.625</td>\n",
       "      <td><img data-content=\"rdkit/molecule\" src=\"data:image/png;base64,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\" alt=\"Mol\"/></td>\n",
       "      <td>13</td>\n",
       "      <td>179.219</td>\n",
       "      <td>1.397</td>\n",
       "      <td>1</td>\n",
       "      <td>0.076923</td>\n",
       "      <td>0.496768</td>\n",
       "      <td>0.252836</td>\n",
       "    </tr>\n",
       "  </tbody>\n",
       "</table>\n",
       "</div>"
      ],
      "text/plain": [
       "                              iupac                  smiles   expt   calc  \\\n",
       "0  4-methoxy-N,N-dimethyl-benzamide  CN(C)C(=O)c1ccc(cc1)OC -11.01 -9.625   \n",
       "\n",
       "                                               ROMol  n_Atoms  Molec_weight  \\\n",
       "0  <img data-content=\"rdkit/molecule\" src=\"data:i...       13       179.219   \n",
       "\n",
       "    LogP  AP        HA  MaxCharge_abs  MaxCharge  \n",
       "0  1.397   1  0.076923       0.496768   0.252836  "
      ]
     },
     "execution_count": 4,
     "metadata": {},
     "output_type": "execute_result"
    }
   ],
   "source": [
    "# before saving the file you should drop ROMol column \"FreeSolve_df = FreeSolve_df.drop(['%name'], axis=1)\"\n",
    "\n",
    "seed = 4\n",
    "\n",
    "PandasTools.AddMoleculeColumnToFrame(FreeSolve_df, smilesCol='smiles')\n",
    "\n",
    "FreeSolve_df['n_Atoms'] = FreeSolve_df['ROMol'].map(lambda x: x.GetNumAtoms())\n",
    " \n",
    "FreeSolve_df['Molec_weight'] = [Descriptors.MolWt(mol) for mol in FreeSolve_df['ROMol']]\n",
    "\n",
    "FreeSolve_df['LogP'] = [Chem.Crippen.MolLogP(mol) for mol in FreeSolve_df['ROMol']]\n",
    "\n",
    "FreeSolve_df['AP'] = [Chem.rdMolDescriptors.CalcNumAromaticRings(mol) for mol in FreeSolve_df['ROMol']]\n",
    "\n",
    "FreeSolve_df['HA'] = [Chem.rdMolDescriptors.CalcNumAromaticRings(mol) / mol.GetNumHeavyAtoms() for mol in FreeSolve_df['ROMol']]\n",
    "\n",
    "FreeSolve_df['MaxCharge_abs'] = [Descriptors.MaxAbsPartialCharge(mol) for mol in FreeSolve_df['ROMol']]\n",
    "\n",
    "FreeSolve_df['MaxCharge'] = [Descriptors.MaxPartialCharge(mol) for mol in FreeSolve_df['ROMol']]\n",
    "\n",
    "#FreeSolve_df = FreeSolve_df.drop(['FP_1'], axis=1)\n",
    "\n",
    "FreeSolve_df.head(1)"
   ]
  },
  {
   "cell_type": "code",
   "execution_count": 5,
   "id": "0e989e75-c72f-49bc-91f1-61cae3f6d11f",
   "metadata": {},
   "outputs": [
    {
     "name": "stdout",
     "output_type": "stream",
     "text": [
      "Train set shape: (514, 12) \n",
      " Test set shape: (128, 12)\n"
     ]
    }
   ],
   "source": [
    "train_df = FreeSolve_df.sample(frac=.8, random_state = seed)\n",
    "test_df = FreeSolve_df[~FreeSolve_df.index.isin(train_df.index)]\n",
    "\n",
    "print('Train set shape:', train_df.shape, '\\n', 'Test set shape:', test_df.shape)"
   ]
  },
  {
   "cell_type": "code",
   "execution_count": 6,
   "id": "6589751c-815b-4cdc-bbd0-c9ba346da712",
   "metadata": {},
   "outputs": [],
   "source": [
    "target = 'calc'\n",
    "\n",
    "dim = 7\n",
    "\n",
    "signs = ['n_Atoms','MaxCharge_abs', 'MaxCharge', 'LogP', 'Molec_weight', 'HA', 'AP']\n",
    "\n",
    "# train samples processing\n",
    "train_y = np.asanyarray(train_df[[target]]).astype(np.float32)\n",
    "train_x = np.asanyarray(train_df[[signs[0],signs[1],signs[2],signs[3],signs[4],signs[5],signs[6]]]).astype(np.float32)\n",
    "\n",
    "train_x = torch.from_numpy(train_x.reshape(train_x.shape[0], dim))\n",
    "train_y = torch.from_numpy(train_y.reshape(train_y.shape[0], 1))\n",
    "\n",
    "# tesr samples processing\n",
    "test_y = np.asanyarray(test_df[[target]]).astype(np.float32)\n",
    "test_x = np.asanyarray(test_df[[signs[0],signs[1],signs[2],signs[3],signs[4],signs[5],signs[6]]]).astype(np.float32)\n",
    "\n",
    "test_x = torch.from_numpy(test_x.reshape(test_x.shape[0], dim))\n",
    "test_y = torch.from_numpy(test_y.reshape(test_y.shape[0], 1))"
   ]
  },
  {
   "cell_type": "markdown",
   "id": "11bf7113-fdab-4415-aa78-dd50a40d01ce",
   "metadata": {
    "tags": []
   },
   "source": [
    "# Random forest"
   ]
  },
  {
   "cell_type": "code",
   "execution_count": 7,
   "id": "4865d98a-e26e-47ae-952b-bed342e0e801",
   "metadata": {},
   "outputs": [],
   "source": [
    "def random_forest(train_x, train_y, seed, n_estimators):\n",
    "\n",
    "    RF_Reg = RandomForestRegressor(random_state=seed, n_estimators = n_estimators)\n",
    "\n",
    "    RF_Reg.fit(train_x, train_y.numpy().ravel())\n",
    "   \n",
    "    return RF_Reg"
   ]
  },
  {
   "cell_type": "code",
   "execution_count": 8,
   "id": "f9484e1c-496d-4c1a-af7e-c5e6d8097956",
   "metadata": {},
   "outputs": [],
   "source": [
    "res = []\n",
    "\n",
    "for i in range(1, 100):\n",
    "    \n",
    "    if not i % (100//25):\n",
    "        \n",
    "        RF_Reg = random_forest(train_x, train_y, seed, i)\n",
    "        \n",
    "        RF_Reg = RF_Reg.predict(test_x)\n",
    "\n",
    "        RMSE_RF = sklearn.metrics.mean_squared_error(test_y.detach().numpy(), RF_Reg) \n",
    "\n",
    "        RMSE_RF = round(np.sqrt(RMSE_RF), 4)\n",
    "        \n",
    "        res_dict = {'n_estimators': i, 'RMSE': RMSE_RF}\n",
    "\n",
    "        res.append(res_dict)\n",
    "        \n",
    "res = pd.DataFrame(res)"
   ]
  },
  {
   "cell_type": "code",
   "execution_count": 9,
   "id": "85a7defb-b379-4eab-92f1-2aa732e2bc7c",
   "metadata": {
    "tags": []
   },
   "outputs": [
    {
     "data": {
      "text/html": [
       "<div>\n",
       "<style scoped>\n",
       "    .dataframe tbody tr th:only-of-type {\n",
       "        vertical-align: middle;\n",
       "    }\n",
       "\n",
       "    .dataframe tbody tr th {\n",
       "        vertical-align: top;\n",
       "    }\n",
       "\n",
       "    .dataframe thead th {\n",
       "        text-align: right;\n",
       "    }\n",
       "</style>\n",
       "<table border=\"1\" class=\"dataframe\">\n",
       "  <thead>\n",
       "    <tr style=\"text-align: right;\">\n",
       "      <th></th>\n",
       "      <th>n_estimators</th>\n",
       "      <th>RMSE</th>\n",
       "    </tr>\n",
       "  </thead>\n",
       "  <tbody>\n",
       "    <tr>\n",
       "      <th>10</th>\n",
       "      <td>44</td>\n",
       "      <td>1.7951</td>\n",
       "    </tr>\n",
       "    <tr>\n",
       "      <th>12</th>\n",
       "      <td>52</td>\n",
       "      <td>1.7983</td>\n",
       "    </tr>\n",
       "    <tr>\n",
       "      <th>11</th>\n",
       "      <td>48</td>\n",
       "      <td>1.8039</td>\n",
       "    </tr>\n",
       "  </tbody>\n",
       "</table>\n",
       "</div>"
      ],
      "text/plain": [
       "    n_estimators    RMSE\n",
       "10            44  1.7951\n",
       "12            52  1.7983\n",
       "11            48  1.8039"
      ]
     },
     "execution_count": 9,
     "metadata": {},
     "output_type": "execute_result"
    }
   ],
   "source": [
    "res.sort_values(by='RMSE').head(3)"
   ]
  },
  {
   "cell_type": "code",
   "execution_count": 10,
   "id": "804fa77f-9574-4ab9-9fff-96ea83ed73f8",
   "metadata": {},
   "outputs": [
    {
     "data": {
      "image/png": "[encoded data removed]",
      "text/plain": [
       "<Figure size 504x360 with 1 Axes>"
      ]
     },
     "metadata": {
      "needs_background": "light"
     },
     "output_type": "display_data"
    }
   ],
   "source": [
    "plt.plot(test_y.numpy(), RF_Reg, 'o', c = 'b', label = 'Default distribution')\n",
    "    \n",
    "plt.ylabel('Random forest');  \n",
    "plt.xlabel('Calculated solubility');\n",
    "    \n",
    "plt.legend(loc = 'upper right');"
   ]
  },
  {
   "cell_type": "markdown",
   "id": "72b553d8-0dba-4f70-adde-78038b0e08d9",
   "metadata": {
    "tags": []
   },
   "source": [
    "# Gradient Boosting Regression"
   ]
  },
  {
   "cell_type": "code",
   "execution_count": 16,
   "id": "5d4bdc38-cbeb-4af0-9534-1131ba6e65d4",
   "metadata": {},
   "outputs": [],
   "source": [
    "def Grad_boost(train_x, train_y, seed, n_estimators):\n",
    "\n",
    "    GB_Reg = GradientBoostingRegressor(random_state=seed, n_estimators=n_estimators)\n",
    "\n",
    "    GB_Reg.fit(train_x, train_y.numpy().ravel())\n",
    " \n",
    "    return GB_Reg"
   ]
  },
  {
   "cell_type": "code",
   "execution_count": 18,
   "id": "3e62f655-5e38-4143-9654-62423e0abd91",
   "metadata": {},
   "outputs": [],
   "source": [
    "res = []\n",
    "\n",
    "for i in range(1, 100):\n",
    "    \n",
    "    if not i % (100//25):\n",
    "        \n",
    "        GB_Reg = Grad_boost(train_x, train_y, seed, i)\n",
    "        \n",
    "        GB_Reg = GB_Reg.predict(test_x)\n",
    "\n",
    "        RMSE_GB = sklearn.metrics.mean_squared_error(test_y.detach().numpy(), GB_Reg) \n",
    "\n",
    "        RMSE_GB = round(np.sqrt(RMSE_GB), 4)\n",
    "        \n",
    "        res_dict = {'n_estimators': i, 'RMSE': RMSE_GB}\n",
    "\n",
    "        res.append(res_dict)\n",
    "        \n",
    "res = pd.DataFrame(res)"
   ]
  },
  {
   "cell_type": "code",
   "execution_count": 19,
   "id": "0b3405cc-725b-4037-b9c9-e0334ed12695",
   "metadata": {},
   "outputs": [
    {
     "data": {
      "text/html": [
       "<div>\n",
       "<style scoped>\n",
       "    .dataframe tbody tr th:only-of-type {\n",
       "        vertical-align: middle;\n",
       "    }\n",
       "\n",
       "    .dataframe tbody tr th {\n",
       "        vertical-align: top;\n",
       "    }\n",
       "\n",
       "    .dataframe thead th {\n",
       "        text-align: right;\n",
       "    }\n",
       "</style>\n",
       "<table border=\"1\" class=\"dataframe\">\n",
       "  <thead>\n",
       "    <tr style=\"text-align: right;\">\n",
       "      <th></th>\n",
       "      <th>n_estimators</th>\n",
       "      <th>RMSE</th>\n",
       "    </tr>\n",
       "  </thead>\n",
       "  <tbody>\n",
       "    <tr>\n",
       "      <th>23</th>\n",
       "      <td>96</td>\n",
       "      <td>1.8353</td>\n",
       "    </tr>\n",
       "    <tr>\n",
       "      <th>22</th>\n",
       "      <td>92</td>\n",
       "      <td>1.8495</td>\n",
       "    </tr>\n",
       "    <tr>\n",
       "      <th>21</th>\n",
       "      <td>88</td>\n",
       "      <td>1.8604</td>\n",
       "    </tr>\n",
       "  </tbody>\n",
       "</table>\n",
       "</div>"
      ],
      "text/plain": [
       "    n_estimators    RMSE\n",
       "23            96  1.8353\n",
       "22            92  1.8495\n",
       "21            88  1.8604"
      ]
     },
     "execution_count": 19,
     "metadata": {},
     "output_type": "execute_result"
    }
   ],
   "source": [
    "res.sort_values(by='RMSE').head(3)"
   ]
  },
  {
   "cell_type": "markdown",
   "id": "4376061d-95ac-4446-8f4b-2a43dc3b1b67",
   "metadata": {
    "tags": []
   },
   "source": [
    "# Bagging Regressor"
   ]
  },
  {
   "cell_type": "code",
   "execution_count": 7,
   "id": "00928780-0ba9-44c1-b12f-00a88f1236f5",
   "metadata": {},
   "outputs": [],
   "source": [
    "def kono_itaria_no_kaban(train_x, train_y, seed, n_estimators):\n",
    "\n",
    "    Bag_Reg = BaggingRegressor(random_state=seed, n_estimators = n_estimators) #(n_estimators=100, max_samples=15, random_state=seed, warm_start=True)\n",
    "\n",
    "    Bag_Reg.fit(train_x, train_y.numpy().ravel())\n",
    "   \n",
    "    return Bag_Reg"
   ]
  },
  {
   "cell_type": "code",
   "execution_count": 8,
   "id": "8f0a34e4-a77c-45dd-bdd5-c151895bf956",
   "metadata": {},
   "outputs": [],
   "source": [
    "res = []\n",
    "\n",
    "for i in range(1, 100):\n",
    "    \n",
    "    if not i % (100//25):\n",
    "        \n",
    "        Bag_Reg = kono_itaria_no_kaban(train_x, train_y, seed, i)\n",
    "        \n",
    "        Bag_Reg = Bag_Reg.predict(test_x)\n",
    "\n",
    "        RMSE_kaban = sklearn.metrics.mean_squared_error(test_y.detach().numpy(), Bag_Reg) \n",
    "\n",
    "        RMSE_kaban = round(np.sqrt(RMSE_kaban), 4)\n",
    "        \n",
    "        res_dict = {'n_estimators': i, 'RMSE': RMSE_kaban}\n",
    "\n",
    "        res.append(res_dict)\n",
    "        \n",
    "res = pd.DataFrame(res)"
   ]
  },
  {
   "cell_type": "code",
   "execution_count": 9,
   "id": "97f730ca-c660-48b9-9360-1008fd2c2392",
   "metadata": {},
   "outputs": [
    {
     "data": {
      "text/html": [
       "<div>\n",
       "<style scoped>\n",
       "    .dataframe tbody tr th:only-of-type {\n",
       "        vertical-align: middle;\n",
       "    }\n",
       "\n",
       "    .dataframe tbody tr th {\n",
       "        vertical-align: top;\n",
       "    }\n",
       "\n",
       "    .dataframe thead th {\n",
       "        text-align: right;\n",
       "    }\n",
       "</style>\n",
       "<table border=\"1\" class=\"dataframe\">\n",
       "  <thead>\n",
       "    <tr style=\"text-align: right;\">\n",
       "      <th></th>\n",
       "      <th>n_estimators</th>\n",
       "      <th>RMSE</th>\n",
       "    </tr>\n",
       "  </thead>\n",
       "  <tbody>\n",
       "    <tr>\n",
       "      <th>12</th>\n",
       "      <td>52</td>\n",
       "      <td>1.8395</td>\n",
       "    </tr>\n",
       "    <tr>\n",
       "      <th>18</th>\n",
       "      <td>76</td>\n",
       "      <td>1.8452</td>\n",
       "    </tr>\n",
       "    <tr>\n",
       "      <th>10</th>\n",
       "      <td>44</td>\n",
       "      <td>1.8496</td>\n",
       "    </tr>\n",
       "  </tbody>\n",
       "</table>\n",
       "</div>"
      ],
      "text/plain": [
       "    n_estimators    RMSE\n",
       "12            52  1.8395\n",
       "18            76  1.8452\n",
       "10            44  1.8496"
      ]
     },
     "execution_count": 9,
     "metadata": {},
     "output_type": "execute_result"
    }
   ],
   "source": [
    "res.sort_values(by='RMSE').head(3)"
   ]
  },
  {
   "cell_type": "code",
   "execution_count": 11,
   "id": "8e3e9cd8-b622-4e16-82e7-dace807b8f1a",
   "metadata": {},
   "outputs": [
    {
     "data": {
      "image/png": "[encoded data removed]",
      "text/plain": [
       "<Figure size 504x360 with 1 Axes>"
      ]
     },
     "metadata": {
      "needs_background": "light"
     },
     "output_type": "display_data"
    }
   ],
   "source": [
    "plt.plot(test_y.numpy(), Bag_Reg, 'o', c = 'b')  \n",
    "\n",
    "plt.ylabel('Bagging regression');  \n",
    "plt.xlabel('Calculated solubility');\n",
    "    \n",
    "#plt.legend(loc = 'upper right')"
   ]
  }
 ],
 "metadata": {
  "kernelspec": {
   "display_name": "Python 3 (ipykernel)",
   "language": "python",
   "name": "python3"
  },
  "language_info": {
   "codemirror_mode": {
    "name": "ipython",
    "version": 3
   },
   "file_extension": ".py",
   "mimetype": "text/x-python",
   "name": "python",
   "nbconvert_exporter": "python",
   "pygments_lexer": "ipython3",
   "version": "3.9.12"
  }
 },
 "nbformat": 4,
 "nbformat_minor": 5
}
