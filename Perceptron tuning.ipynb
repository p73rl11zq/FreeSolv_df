{
 "cells": [
  {
   "cell_type": "markdown",
   "id": "d537cf68-584a-4fb8-b35a-370a2b2bd532",
   "metadata": {
    "tags": []
   },
   "source": [
    "# Libraries import"
   ]
  },
  {
   "cell_type": "code",
   "execution_count": 1,
   "id": "d65b2b89-e051-451f-a27e-b9c416f9f8b8",
   "metadata": {},
   "outputs": [],
   "source": [
    "import pandas as pd\n",
    "import numpy as np\n",
    "import matplotlib\n",
    "from matplotlib import pyplot as plt\n",
    "import rdkit\n",
    "from rdkit import Chem\n",
    "from rdkit.Chem import PandasTools\n",
    "from rdkit.Chem import Descriptors\n",
    "from rdkit.Chem import AllChem\n",
    "import torch\n",
    "import sklearn\n",
    "from sklearn.ensemble import RandomForestRegressor\n",
    "from sklearn.ensemble import GradientBoostingRegressor\n",
    "from sklearn.ensemble import BaggingRegressor\n",
    "from sklearn.model_selection import cross_validate\n",
    "\n",
    "import random\n",
    "\n",
    "%matplotlib inline\n",
    "matplotlib.rcParams['figure.figsize'] = (7, 5)"
   ]
  },
  {
   "cell_type": "markdown",
   "id": "7c9a7ac8-a3db-4f96-9c2d-1a62983bce57",
   "metadata": {
    "tags": []
   },
   "source": [
    "# Data reading"
   ]
  },
  {
   "cell_type": "code",
   "execution_count": 2,
   "id": "cd1f1398-200e-4bd7-95e4-d42a03306c0d",
   "metadata": {},
   "outputs": [
    {
     "data": {
      "text/html": [
       "<div>\n",
       "<style scoped>\n",
       "    .dataframe tbody tr th:only-of-type {\n",
       "        vertical-align: middle;\n",
       "    }\n",
       "\n",
       "    .dataframe tbody tr th {\n",
       "        vertical-align: top;\n",
       "    }\n",
       "\n",
       "    .dataframe thead th {\n",
       "        text-align: right;\n",
       "    }\n",
       "</style>\n",
       "<table border=\"1\" class=\"dataframe\">\n",
       "  <thead>\n",
       "    <tr style=\"text-align: right;\">\n",
       "      <th></th>\n",
       "      <th>iupac</th>\n",
       "      <th>smiles</th>\n",
       "      <th>expt</th>\n",
       "      <th>calc</th>\n",
       "    </tr>\n",
       "  </thead>\n",
       "  <tbody>\n",
       "    <tr>\n",
       "      <th>0</th>\n",
       "      <td>4-methoxy-N,N-dimethyl-benzamide</td>\n",
       "      <td>CN(C)C(=O)c1ccc(cc1)OC</td>\n",
       "      <td>-11.01</td>\n",
       "      <td>-9.625</td>\n",
       "    </tr>\n",
       "  </tbody>\n",
       "</table>\n",
       "</div>"
      ],
      "text/plain": [
       "                              iupac                  smiles   expt   calc\n",
       "0  4-methoxy-N,N-dimethyl-benzamide  CN(C)C(=O)c1ccc(cc1)OC -11.01 -9.625"
      ]
     },
     "execution_count": 2,
     "metadata": {},
     "output_type": "execute_result"
    }
   ],
   "source": [
    "data_path = 'z_ML datasets__/'\n",
    "\n",
    "FreeSolve_df = pd.read_csv(data_path + 'SAMPL.csv')\n",
    "\n",
    "FreeSolve_df.head(1)"
   ]
  },
  {
   "cell_type": "code",
   "execution_count": 3,
   "id": "1cbe0c4c-db7e-4653-8fa2-f65ac73a672d",
   "metadata": {},
   "outputs": [
    {
     "data": {
      "image/png": "[encoded data removed]",
      "text/plain": [
       "<Figure size 504x360 with 1 Axes>"
      ]
     },
     "metadata": {
      "needs_background": "light"
     },
     "output_type": "display_data"
    }
   ],
   "source": [
    "# plot below is taken from dataset creator article; it reflects general form of dependence between predicted value and calculated\n",
    "\n",
    "FreeSolve_df.plot(x='expt', y='calc', style='o')  \n",
    "\n",
    "plt.title('expt vs calc')  \n",
    "\n",
    "plt.xlabel('expt');  plt.ylabel('calc');\n",
    "\n",
    "plt.show()"
   ]
  },
  {
   "cell_type": "markdown",
   "id": "f2ea4eea-c145-4852-bd7a-00b2c47b111e",
   "metadata": {},
   "source": [
    "# Data processing"
   ]
  },
  {
   "cell_type": "code",
   "execution_count": 4,
   "id": "8d442b85-8595-4a6c-8391-914ec2d2d0ce",
   "metadata": {},
   "outputs": [
    {
     "data": {
      "text/html": [
       "<div>\n",
       "<style scoped>\n",
       "    .dataframe tbody tr th:only-of-type {\n",
       "        vertical-align: middle;\n",
       "    }\n",
       "\n",
       "    .dataframe tbody tr th {\n",
       "        vertical-align: top;\n",
       "    }\n",
       "\n",
       "    .dataframe thead th {\n",
       "        text-align: right;\n",
       "    }\n",
       "</style>\n",
       "<table border=\"1\" class=\"dataframe\">\n",
       "  <thead>\n",
       "    <tr style=\"text-align: right;\">\n",
       "      <th></th>\n",
       "      <th>iupac</th>\n",
       "      <th>smiles</th>\n",
       "      <th>expt</th>\n",
       "      <th>calc</th>\n",
       "      <th>ROMol</th>\n",
       "      <th>n_Atoms</th>\n",
       "      <th>Molec_weight</th>\n",
       "      <th>LogP</th>\n",
       "      <th>AP</th>\n",
       "      <th>HA</th>\n",
       "      <th>MaxCharge_abs</th>\n",
       "      <th>MaxCharge</th>\n",
       "    </tr>\n",
       "  </thead>\n",
       "  <tbody>\n",
       "    <tr>\n",
       "      <th>0</th>\n",
       "      <td>4-methoxy-N,N-dimethyl-benzamide</td>\n",
       "      <td>CN(C)C(=O)c1ccc(cc1)OC</td>\n",
       "      <td>-11.01</td>\n",
       "      <td>-9.625</td>\n",
       "      <td><img data-content=\"rdkit/molecule\" src=\"data:image/png;base64,iVBORw0KGgoAAAANSUhEUgAAAMgAAADICAIAAAAiOjnJAAAABmJLR0QA/wD/AP+gvaeTAAAUsUlEQVR4nO3de1RUVd8H8O9w1YEQwUHBO4omZooTyDXFwLzgXVuPlZaWl3KFZSa2fJ6wx0fTlUspXZmlKy8JK2pxF03kKRkGM7W8kLdXLRS5NBA3B7kMs98/jo0DCHI5e87R5/dZ/dOew9l78Mve57L3OQrGGAgRm5XUDSCPJwoW4YKCRbigYBEuKFiECwoW4YKCRbigYBEuKFiECwoW4YKCRbigYBEuKFiECwoW4YKCRbigYBEuKFiECwoW4YKCRbigYBEuKFiECwoW4YKCRbigYBEuKFiECwoW4YKCRbigYBEuKFiECwoW4YKCRbigYBEuKFiECwoW4YKCRbigYBEuKFiECwoW4YKCRbigYBEuKFiECwoW4YKCRbigYBEuKFiECwoW4YKCRbigYBEuKFiECwoW4YKCRbigYBEuKFiECwoW4YKCRbigYBEuKFiECwoW4UIuwQoMDJw3b55Op5O6IUQcCsaY1G3AtWvXvLy8XFxciouLbWxspG4OEYEseqyEhAQAERERlKrHhiyClZSUBGDGjBlSN4SIRvqhsLi42MPDw97eXqfTOTg4SNsYIhbpe6ykpCSj0ThhwgRK1eNEFsECMH36dKkbQsQk8VBYVVWlUqkMBkNhYaFKpZKwJURcEp+FHTp0qLa2dty4cY9xqurq6n755ZeffvrpxIkTpaWlCxYsmD179mM/7kscrOTkZDyO42BRUdGpU6fOnDmj1Wq1Wu3du3eFcoVCkZmZGRsbm5KSYmdnJ20juZJyKKytrXVzc6usrLxx48bAgQOlaoYoDAbDlStXtFptdnb2mTNnLl68aP6pp6dnUFCQWq0eMGDAsmXLioqKZs6c+e2331pbW0vVYN6k7LG02tKhQ0OAkkc0VcXFxT///LPQLeXk5FRXV5s+cnR0HDlyZHBwcFBQUGBgoKurq+kjT0/PsWPHJiYmvvXWW5999pkUDbcIJp2lSxnA1q1rkLAN7WIwGHJzc/ft27dkyRJvb2+FQmH+m/T09Jw/f35MTMzp06cbGlr7Ujk5OcIxVnR0tKXabmmSDYVGI/r0QWEhzp7FyJGSNKFNKioqTp06JQxw2dnZ5eXlpo8cHBxGjRqlVquDg4NDQ0N79OjR9t2mpqbOmjXLYDBs27bt7bff5tBwqUmVaK2WAWzAAKnqf7itW7d6eXk1+XUNGTJkwYIFO3fuPHv2rMFg6Mz+Dxw4YGVlpVAo9u7dK1ab5UOyYK1ezQC2cqVU9T/EP//5z2eeeQaAg4NDUFBQZGRkfHx8cXFxZ/ZpMBhOnjxpXrJ9+3YAtra26enpnWuv7EgWrKFDGcCOH5eq/tYYjcY+ffoAiIuLq6+vF2WfBoNh7ty5dnZ2R44cMS+PiooCoFQqNRqNKBXJhDTB+u03BjBXVybSv5rITpw4AaB///5Go1HE3a5evVrIUHZ2tqnQaDQuXrwYQLdu3c6ePStiddKSJlj/+Q8D2KJFklT+cEIv8vbbb4u7W6PR+PrrrwNwdnY2z5DQmQHw8PD4/fffxa1UKtIEy9eXASwlRZLKH27o0KEAfvzxR9H3bDAY5syZA6B3797mGaqtrZ0wYQKAwYMHFxUViV6v5UkQrPx8plAwpZLp9Zav/OGEi+aurq5iHV01UVtbGx4e3jxDlZWVarUawNNPP11WVsaj6kauX2dTpzKlknXtykaMYAkJ4u5egmBt384ANnu25Wtuk40bNwJYuHChqSQuLi4kJOS7774Tq4qKigohQyNHjjTPkE6ne/LJJwGMGzfu7t27YlX3AJWVrH9/9t57TK9nBgNLSWFOTuzYMRFrkCBYEyYwgO3fb/ma28TPzw9AUlKSqUQYvLZv3y5iLX/++acw4IaGhppn6NatW/369QMwbdo0Tl0mY4zt3cuGDWPmtwfWrmURESLWIEGwdDq2Zw/76y/L1/xwt2/fVigUSqVS//c4XVNT88QTTygUips3b4pb182bN4UMTZ8+3TxDubm5wr3FBQsWiHtaet+aNU1PnQ4dYp6eItZgoRmkkZFwckJ+PgD06IG6OixcaJma20foqCZOnKhUKoWSo0ePVlVVqdXqvn37iltX375909PTXVxckpOTX3vtNfb3vbXhw4enp6c7Ojru37///fffF6cyxnDpEr76CosXY9cu6PXo0qXRBkol9Hpx6gJgyanJDg6Q/z2x5vPDhBJOK4jMM7R27VpTuZ+fX1JSkr29/ebNm7ds2dLBvd+5g+xsbN6MqVPh5gZvbyxahN27kZCAgQNx40ajja9fx6BBnfgqzYjY+7XirbfYmjVs4ECWlsYYYzt3sunTLVNzO5SXl9vZ2VlbW+t0OqGkoaGhV69eAHJzc/nVm5GRYW9vD+Djjz82L4+LixNuJu7evbuNu9Jfvcr27mVLl7Knn2bW1gy4/1/v3mzOHLZ1Kzt1il28yOzsmOlaWnU1GzWKbdok4peyXLCio1liIhswgOn1Mg3W119/DWD8+PGmkqysLACDBw/mXXVsbKyQoT179piXCxO2rK2tWzonvXPnjkajiYmJmTt3rkqlOhAScj9JNjbM25stWcL27WPN/zBiYlj37mzxYvbee+zJJ9mkSaymRsRvxGuiX0EBzpyBVovsbPj63iucMQNffokNGyD24Yo4mo96wgqimTNn8q563rx5ZWVly5cvX7JkibOz86xZs4TyN954o7i4+MMPP3z55ZdVKtWzzz4L4Nq1aydOnPjpp59ycnIuXLjQ0NBg2k/moEEvz5qFwED4+0OtbnogZW7FCkybhv/+F9XV+OILhIQAQF0dEhLwj3+I8JXESmhNDcvJYVu3sjlzWO/ejfpgH597PRZj7No15uzMoqJk12MJZ38AzC+Ie3p6AtBqtZZpwwcffACga9euxxvfnF++fDkABweH0NBQNzc3838+W1tbX1/fyMjI2NjYP/74o7MtmDyZAWzr1s7up5NDYX5+fmJi9cqVLCCA2ds3CpOLC5s8mf373+zYMVZZeT9YjLF165iDg+yClZaWBkCtVptKzp07B6Bnz56tTwcV1xtvvAHAw8PD/OKW0WgMCwsTjvYAdOvWLSwsLDo6OiMjQy/u7YvYWGZlxRQK1nhE7oD2DYXNlwwEBubl5PQTPvX0RFAQ1GoEB8PHB1YtnHGuWYPYWACorUVJCXr3blcTeGn+/IjExEQA06dPt2rpm3CwY8eOhoaGV155pYvZKKZQKLp3715UVPTSSy99+OGHg8Q9fTM3bx7KyrB8OZYsgbMz/h6RO+Kh0SssLExISFi1alVwcHCXxmN2t27dli49tG4d+/57Vl7e2k4uX2bXr9//3+vX2YkT7Pnn2aBBrLCwk38bIjCd/V24cMFU6OPjA0AOU/BqamqcnJwA3LhxwxL1/etfDGBdu3ZmulyLwdLr9S+++OKAAQPMk6RQKIYNG7Zo0aLdu3fn5uZ2ZozQ61lgIAPYiBHSX4XXaDQABg0aZCr5448/FAqFo6Mj33t2bZOeng7Ax8fHclWuWMEA5uTEfvmlYztocShUKpU//vhjQUGB+UqmgICAdi0ZaIVSieRkPPssLlzAlCk4dgx/X+uWQPOzP+ES/JQpU7q0cmJlKRI83mLrVhQV4ZtvMHEiNBoMGdLuPbQSuiNHjpw/f76TSwZad+sW69+fAWzqVClnkwqLJswndo4bNw5AXFycZG36W0NDg7u7O4Bz585ZtOK6OjZxIgOYpycrKGjvT0u5rlBw9Spzc2MAe/llxumWa+vOnz8PwM3NzfQnVFJSYmNjY2tra4l5UQ+j1WoBDJBkPVNVFfPzY0CVv397fxXSP8bIywtpaXB0xNdfY8UKCRpgGmhMC95TU1MNBsNzzz3n7OwsQYMaEy7bzurMCVqHOToiPf2vgIDnq6snTZqkb9ddak5Zb6/MzHtXwjZvtnTVo0ePBnDo0CFTiXA08/nnn1u6KQ8iTNs6Lt16pvz8/P79+wOIiIioq6tr40/JJViMscREZm3NFAr25ZeWqzQvL6/J2Z9er1cqlVZWVgXtP7AQXW5uLoAePXpwnPTXBlevXu3ZsyeAl156qY2XAqQfCk1mzMD27WAMO3acSE5OsUylwtnf5MmTTWd/RUVFvr6+AQEBwiGztEzDtLTPk/by8kpNTX3iiScOHjwYGRnZpp/hnPV227bt/xwcHLp06fLDDz9YoLrQ0FAABw8ebFIubQ9hIqzGTpHHeqbMzExhes/GjRsfurHsgsUYW7lyJQAnJ6fTp09zqqKkpCQtLW3VqlVWVlY2NjZyOPtrLj8/Xximq6urpW7LPYmJidbW1gqFYteuXa1vKcdgGY3GV199FYBKpbp06ZJYu71+/brpCUSm238uLi4KheKrr74SqxYRCU92mDNnjtQNaeTzzz8HYGVlFR8f38pmcgwWY6yurm7y5MkA+vbtm5eX17GdlJWVHT58+IMPPggPDxfutZkolcqQkJCoqChhNkErM+kk9NxzzwE4cOCA1A1pav369QDs7e0zMzNb2kamwWKMVVdXBwcHAxg+fHhpaWkbf0roliIjI9VqdZNZCe7u7hEREZs2bdJoNDVmsyWjo6MBdOnShcfS5w4rKyuztbW1tbX9S/I7qQ+ycuVKd3f38+fPt7SBfIPFGCsvLx81ahSAMWPGVFVVPXCbqqoqjUazadOmiIgI8ycyArC1tVWr1ZGRkfv27Wv9mQjCo8+cnJzOnDnD5Zu03/79+wGEh4dL3ZAHa2hoaP2hTrIOFmPs9u3bwhNKw8LCTN1MG7ultk9MMBqNr7zyinBUd/nyZW7fph2ES+07duyQuiEdJPdgHT58+IsvvhCeAj969OgpU6a4uLiYJ8ne3j4gIOCdd96Jj4/Pz8/vcEV1dXWTJk0SjupEX5vaXnfv3uW0StZi5B6sMWPGANi2bZurq6u3t7d5tyTMzRXxVFyv1wtHdU899VTbj+p4EO4P+vn5SdiGTpJ1sEwL3u/cuVNaWnrkyJH9+/eHhYXt3LmT09rz8vLykSNHCkd1d+7c4VFFWyxatAjAhg0bpGpA58k6WMKqupkzZ5pKUlNT0XjJg+hu374tzJsNDw+vra3lV1FLDAaDMPT/9ttvlq9dLDK6V9ichRe8Czw8PDIyMnr27JmRkbFw4UKj0cipovr6+pMnTxYXFzcpz87O1ul0Xl5epqH/kSR1slvUyoJ38yUPnJw7d06YjPXmm2+KuNvCwsKUlJTo6OiwsLCuXbsC+Oyzz5ps88477wCIiooSsV7Lk2+wDh48CCA0NNRU0nzJA1c//PCDMOVh/fr1Hd5JfX39qVOnPv3005ZWpjR/LoOwSjYnJ6dzzZeYfIP1wgsvAPjkk09MJe+++y6AVatWWawNycnJwnwV82Y8VHl5eUZGhtAtKRsvEXF0dAwKCoqKikpJSTH1xOZ+/fVXWHyVLA8yDdYDV9I1X/JgAfv27VMoFFZWVt98801L27T+jh13d/e5c+fGxMRoNJqHzsAU7i8tW7ZM7O9haTIN1qFDhwCMHj3aVNJ8yYPFfPTRRwDs7OwOHz78wA2Eh2ybd0uhoaFr165NS0srKSlpYy03btw4ePCgh4cHgJYqeoRI/CLMljRf8N58yYPFrFmzprS0dMuWLbNnz87IyAgMDGyygZ+f3/Hjx/39/QMCAgIDA5966qm2NLK+vv78+fPCwwqysrLy8vIA2NjYrF27Vph++GiTOtkP0tAwsE8fNF5J13zJgyUZjcbXXnsNgKur68WLFzu8n7y8vLi4uBUrVvj5+dna2pr/Q6hUqqlTp27cuLGyslLElktFlsHSao3dul02ex5N8yUPlmcwGGbPng2gd+/ebX9gUH19/enTp2NiYubPn9/kfZ/W1tbe3t7z58/ftWtXbm4ur+fYSkSWQ2FioqKiYujgwaaCgmPHhrq4jBg/XsIF79bW1gcOHNDpdFlZWeHh4RqNRli40lxhYeHp06eFN69mZ2fX1NSYPnJycvLz8xNe4xscHNy9e3dLNd/ipE72gwwZwgBm/jas8eOZtXVFq3NhLaOiokIYlH19fU1jVn19fW5u7q5du+bPn9/8cnnb37z6OJHyZeMPlpuLESPg5oaCAgiHwH/9hZ49oVCguBgy+BPX6XQhISFXrlwZPXr02LFjhddCm3dLzs7O/v7+wrG8v79/k1nR/yPkNxQmJQHAtGkwnVilpsJgwPPPyyFVAFQq1eHDh4OCgioqKrZt2yYUmt5THxwc7OPjY8lntcmTXINlfpu5eYnUBg4cqNVqb926lZmZKfRMcnjKg6zIbCjMz0e/fnBwgE5374m/d+9CpUJ1NW7eRJ8+UrePtJXMeuyEBDCGSZPuP0f6+++h12PMGErVo0VmwUpOBuQ+DpK2kNNQ2Pzsr6EBvXqhpASXL2PoUKnbR9pBTj2WcPYXGnr/7C8rCyUlGDaMUvXIkdNZYb9+mDYN5o9wpXHwkSWnobA5T0/8/jtOnoSfn9RNIe0jpx5Lo8GXX6KwEK6umDcP06Zh924cPXr/JU/k0SGbYMXHY+lSrF8PtRpXr2LZMly5gtWrMX681C0jHSGPoZAx9OuHDRuwYMG9kqwsTJyIggLQFe1HkzyCVVQEd3dUVMD8fq1KhaQkBAVJ1yzScfK43FBUBHt7NJkF4OaGwkKJGkQ6Sx7B6tMHtbUoK2tUWFiIfv0kahDpLHkEq0cPDBqE+Pj7JUePoqEBw4dL1ybSKbI5K/z003tvYfTzw6VLWLcOW7bAwUHqZpEOksfBu+DXX7FnD27eRK9eePFFjBsndYNIx8kpWOQxIo9jLPLYoWARLihYhAsKFuGCgkW4oGARLihYhAsKFuGCgkW4oGARLihYhAsKFuGCgkW4oGARLihYhAsKFuGCgkW4oGARLihYhAsKFuGCgkW4oGARLihYhAsKFuGCgkW4oGARLihYhAsKFuGCgkW4oGARLihYhAsKFuGCgkW4oGARLihYhAsKFuGCgkW4oGARLihYhAsKFuGCgkW4oGARLihYhAsKFuGCgkW4oGARLihYhAsKFuGCgkW4oGARLihYhAsKFuGCgkW4oGARLihYhAsKFuGCgkW4oGARLv4fMmi4fECE8KoAAAESelRYdHJka2l0UEtMIHJka2l0IDIwMjEuMDMuNAAAeJx7v2/tPQYg4AFiRgYI4IXiBkY2hgSQODM7gwaQZmaG8dkgfBYOCM3E5gDhszlkgNUxIjFwycD1Qs3kBtrPyARkKDCzaDAxsyqwsmUwsbEnsHNkMHFwJnByASluBW4eBi7WBBFGNlYuTg52NnGYmxl4p53pO7BsN4sdiCP6wv6A85GXYPZqPeUDzks/2oPYFx/83c91WXU/iH15pfSB23ysB0Bsz78s+5fYL9kHYrPunbDXU6UPrD4mbJP907/bwexbSlIOtr2rwGY+vPTL/vGEHrA55w/9tavP2gZmf7xc7nD9pwZY/fnUOQ6ryh6DzRQDADanRreg4nB1AAABFHpUWHRNT0wgcmRraXQgMjAyMS4wMy40AAB4nJ1SSU4EMQy85xX+AJG3LD7TnBCDxIE/cOf/wlkmygGkIZHVqortSnXiAG19XK9f37AWXyEASQvAX8PM4JMRMXj5k0bNnFonRmLLA3kW4Rn+ktijq3A0q1NFU95Vbv9RSWql9VKstdiZF4pWRRvCmLXU0z9SYR4Ii+Gm8v64CsZElgYSxkMv3lFw3gsRpiMV7xUTGUil6JmK3wvW2SsidOrFUp81fy20ymcqPmuWpopyOvQisRaW0Zsz7iqPvzRom9g5daoqJ178aO7fRhzJTnQRR6lvTZJXxlHpW404qos4skUMCO/EEdGeWQ4c0XLQavIsewN4uV3hByAOsbGADjFxAAAAx3pUWHRTTUlMRVMgcmRraXQgMjAyMS4wMy40AAB4nB3PTa7DMAgE4Kt0mUjU4mcAI+utsn89hK/Rw5dkZ30aM3B9tuy9j+v4+5z/x3Ve597y+h4YcyaM3jwAaDgtGzPVhHhEMIfS0gGeNlvMTLhoybAyDZIBS4BW/+fkSGsSYcyHXAp1zzblrNtk1DTobYFMl7Yeb6qgfnSK7aGq6ehGeHj2Vm8MhCKbRCtUn5SjUruyj5hBq+PloUndA3XRe9Pytlu4piSd3x+wJzcNXSBvdAAAAABJRU5ErkJggg==\" alt=\"Mol\"/></td>\n",
       "      <td>13</td>\n",
       "      <td>179.219</td>\n",
       "      <td>1.397</td>\n",
       "      <td>1</td>\n",
       "      <td>0.076923</td>\n",
       "      <td>0.496768</td>\n",
       "      <td>0.252836</td>\n",
       "    </tr>\n",
       "  </tbody>\n",
       "</table>\n",
       "</div>"
      ],
      "text/plain": [
       "                              iupac                  smiles   expt   calc  \\\n",
       "0  4-methoxy-N,N-dimethyl-benzamide  CN(C)C(=O)c1ccc(cc1)OC -11.01 -9.625   \n",
       "\n",
       "                                               ROMol  n_Atoms  Molec_weight  \\\n",
       "0  <img data-content=\"rdkit/molecule\" src=\"data:i...       13       179.219   \n",
       "\n",
       "    LogP  AP        HA  MaxCharge_abs  MaxCharge  \n",
       "0  1.397   1  0.076923       0.496768   0.252836  "
      ]
     },
     "execution_count": 4,
     "metadata": {},
     "output_type": "execute_result"
    }
   ],
   "source": [
    "# before saving the file you should drop ROMol column \"FreeSolve_df = FreeSolve_df.drop(['%name'], axis=1)\"\n",
    "\n",
    "seed = 1\n",
    "\n",
    "PandasTools.AddMoleculeColumnToFrame(FreeSolve_df, smilesCol='smiles')\n",
    "\n",
    "FreeSolve_df['n_Atoms'] = FreeSolve_df['ROMol'].map(lambda x: x.GetNumAtoms())\n",
    " \n",
    "FreeSolve_df['Molec_weight'] = [Descriptors.MolWt(mol) for mol in FreeSolve_df['ROMol']]\n",
    "\n",
    "FreeSolve_df['LogP'] = [Chem.Crippen.MolLogP(mol) for mol in FreeSolve_df['ROMol']]\n",
    "\n",
    "FreeSolve_df['AP'] = [Chem.rdMolDescriptors.CalcNumAromaticRings(mol) for mol in FreeSolve_df['ROMol']]\n",
    "\n",
    "FreeSolve_df['HA'] = [Chem.rdMolDescriptors.CalcNumAromaticRings(mol) / mol.GetNumHeavyAtoms() for mol in FreeSolve_df['ROMol']]\n",
    "\n",
    "FreeSolve_df['MaxCharge_abs'] = [Descriptors.MaxAbsPartialCharge(mol) for mol in FreeSolve_df['ROMol']]\n",
    "\n",
    "FreeSolve_df['MaxCharge'] = [Descriptors.MaxPartialCharge(mol) for mol in FreeSolve_df['ROMol']]\n",
    "\n",
    "#FreeSolve_df = FreeSolve_df.drop(['FP_1'], axis=1)\n",
    "\n",
    "FreeSolve_df.head(2)"
   ]
  },
  {
   "cell_type": "code",
   "execution_count": 7,
   "id": "9cfb46d8-9aba-4136-9cc5-644a41028294",
   "metadata": {},
   "outputs": [
    {
     "data": {
      "text/html": [
       "<div>\n",
       "<style scoped>\n",
       "    .dataframe tbody tr th:only-of-type {\n",
       "        vertical-align: middle;\n",
       "    }\n",
       "\n",
       "    .dataframe tbody tr th {\n",
       "        vertical-align: top;\n",
       "    }\n",
       "\n",
       "    .dataframe thead th {\n",
       "        text-align: right;\n",
       "    }\n",
       "</style>\n",
       "<table border=\"1\" class=\"dataframe\">\n",
       "  <thead>\n",
       "    <tr style=\"text-align: right;\">\n",
       "      <th></th>\n",
       "      <th>iupac</th>\n",
       "      <th>smiles</th>\n",
       "      <th>expt</th>\n",
       "      <th>calc</th>\n",
       "      <th>ROMol</th>\n",
       "      <th>n_Atoms</th>\n",
       "      <th>Molec_weight</th>\n",
       "      <th>LogP</th>\n",
       "      <th>AP</th>\n",
       "      <th>HA</th>\n",
       "      <th>MaxCharge_abs</th>\n",
       "      <th>MaxCharge</th>\n",
       "    </tr>\n",
       "  </thead>\n",
       "  <tbody>\n",
       "    <tr>\n",
       "      <th>0</th>\n",
       "      <td>4-methoxy-N,N-dimethyl-benzamide</td>\n",
       "      <td>CN(C)C(=O)c1ccc(cc1)OC</td>\n",
       "      <td>-11.01</td>\n",
       "      <td>-9.625</td>\n",
       "      <td><img data-content=\"rdkit/molecule\" src=\"data:image/png;base64,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\" alt=\"Mol\"/></td>\n",
       "      <td>13</td>\n",
       "      <td>179.219</td>\n",
       "      <td>1.3970</td>\n",
       "      <td>1</td>\n",
       "      <td>0.076923</td>\n",
       "      <td>0.496768</td>\n",
       "      <td>0.252836</td>\n",
       "    </tr>\n",
       "    <tr>\n",
       "      <th>1</th>\n",
       "      <td>methanesulfonyl chloride</td>\n",
       "      <td>CS(=O)(=O)Cl</td>\n",
       "      <td>-4.87</td>\n",
       "      <td>-6.219</td>\n",
       "      <td><img data-content=\"rdkit/molecule\" src=\"data:image/png;base64,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\" alt=\"Mol\"/></td>\n",
       "      <td>5</td>\n",
       "      <td>114.553</td>\n",
       "      <td>0.1848</td>\n",
       "      <td>0</td>\n",
       "      <td>0.000000</td>\n",
       "      <td>0.229212</td>\n",
       "      <td>0.229212</td>\n",
       "    </tr>\n",
       "    <tr>\n",
       "      <th>2</th>\n",
       "      <td>3-methylbut-1-ene</td>\n",
       "      <td>CC(C)C=C</td>\n",
       "      <td>1.83</td>\n",
       "      <td>2.452</td>\n",
       "      <td><img data-content=\"rdkit/molecule\" src=\"data:image/png;base64,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\" alt=\"Mol\"/></td>\n",
       "      <td>5</td>\n",
       "      <td>70.135</td>\n",
       "      <td>1.8284</td>\n",
       "      <td>0</td>\n",
       "      <td>0.000000</td>\n",
       "      <td>0.102824</td>\n",
       "      <td>-0.029310</td>\n",
       "    </tr>\n",
       "    <tr>\n",
       "      <th>3</th>\n",
       "      <td>2-ethylpyrazine</td>\n",
       "      <td>CCc1cnccn1</td>\n",
       "      <td>-5.45</td>\n",
       "      <td>-5.809</td>\n",
       "      <td><img data-content=\"rdkit/molecule\" src=\"data:image/png;base64,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\" alt=\"Mol\"/></td>\n",
       "      <td>8</td>\n",
       "      <td>108.144</td>\n",
       "      <td>1.0390</td>\n",
       "      <td>1</td>\n",
       "      <td>0.125000</td>\n",
       "      <td>0.261224</td>\n",
       "      <td>0.058343</td>\n",
       "    </tr>\n",
       "  </tbody>\n",
       "</table>\n",
       "</div>"
      ],
      "text/plain": [
       "                              iupac                  smiles   expt   calc  \\\n",
       "0  4-methoxy-N,N-dimethyl-benzamide  CN(C)C(=O)c1ccc(cc1)OC -11.01 -9.625   \n",
       "1          methanesulfonyl chloride            CS(=O)(=O)Cl  -4.87 -6.219   \n",
       "2                 3-methylbut-1-ene                CC(C)C=C   1.83  2.452   \n",
       "3                   2-ethylpyrazine              CCc1cnccn1  -5.45 -5.809   \n",
       "\n",
       "                                               ROMol  n_Atoms  Molec_weight  \\\n",
       "0  <img data-content=\"rdkit/molecule\" src=\"data:i...       13       179.219   \n",
       "1  <img data-content=\"rdkit/molecule\" src=\"data:i...        5       114.553   \n",
       "2  <img data-content=\"rdkit/molecule\" src=\"data:i...        5        70.135   \n",
       "3  <img data-content=\"rdkit/molecule\" src=\"data:i...        8       108.144   \n",
       "\n",
       "     LogP  AP        HA  MaxCharge_abs  MaxCharge  \n",
       "0  1.3970   1  0.076923       0.496768   0.252836  \n",
       "1  0.1848   0  0.000000       0.229212   0.229212  \n",
       "2  1.8284   0  0.000000       0.102824  -0.029310  \n",
       "3  1.0390   1  0.125000       0.261224   0.058343  "
      ]
     },
     "execution_count": 7,
     "metadata": {},
     "output_type": "execute_result"
    }
   ],
   "source": [
    "FreeSolve_df.head(4)"
   ]
  },
  {
   "cell_type": "code",
   "execution_count": 5,
   "id": "bcc6e321-bd2f-45ad-8d4c-2a9cb7ee502f",
   "metadata": {},
   "outputs": [
    {
     "name": "stdout",
     "output_type": "stream",
     "text": [
      "Train set shape: (514, 12) \n",
      " Test set shape: (128, 12)\n"
     ]
    }
   ],
   "source": [
    "train_df = FreeSolve_df.sample(frac=.8, random_state = seed)\n",
    "test_df = FreeSolve_df[~FreeSolve_df.index.isin(train_df.index)]\n",
    "\n",
    "print('Train set shape:', train_df.shape, '\\n', 'Test set shape:', test_df.shape)"
   ]
  },
  {
   "cell_type": "code",
   "execution_count": 6,
   "id": "1725642e-ad27-4d54-8513-3776561b0209",
   "metadata": {},
   "outputs": [],
   "source": [
    "target = 'calc'\n",
    "\n",
    "dim = 7\n",
    "\n",
    "signs = ['n_Atoms','MaxCharge_abs', 'MaxCharge', 'LogP', 'Molec_weight', 'HA', 'AP']\n",
    "\n",
    "# train samples processing\n",
    "train_y = np.asanyarray(train_df[[target]]).astype(np.float32)\n",
    "train_x = np.asanyarray(train_df[[signs[0],signs[1],signs[2],signs[3],signs[4],signs[5],signs[6]]]).astype(np.float32)\n",
    "\n",
    "train_x = torch.from_numpy(train_x.reshape(train_x.shape[0], dim))\n",
    "train_y = torch.from_numpy(train_y.reshape(train_y.shape[0], 1))\n",
    "\n",
    "# tesr samples processing\n",
    "test_y = np.asanyarray(test_df[[target]]).astype(np.float32)\n",
    "test_x = np.asanyarray(test_df[[signs[0],signs[1],signs[2],signs[3],signs[4],signs[5],signs[6]]]).astype(np.float32)\n",
    "\n",
    "test_x = torch.from_numpy(test_x.reshape(test_x.shape[0], dim))\n",
    "test_y = torch.from_numpy(test_y.reshape(test_y.shape[0], 1))"
   ]
  },
  {
   "cell_type": "markdown",
   "id": "6ad888df-a4f7-4b34-8a73-fc81d7733021",
   "metadata": {},
   "source": [
    "# Tourch NN model"
   ]
  },
  {
   "cell_type": "markdown",
   "id": "86e7a6db-d355-49c0-832c-62faf3dd7328",
   "metadata": {},
   "source": [
    "torch.manual_seed(seed)\n",
    "\n",
    "import random\n",
    "random.seed(seed)## NN frame"
   ]
  },
  {
   "cell_type": "code",
   "execution_count": 122,
   "id": "747394a1-2559-4a47-bcf2-0d2f42228486",
   "metadata": {},
   "outputs": [],
   "source": [
    "class Neural_net(torch.nn.Module):                \n",
    "    def __init__(self, n1, n2):                       \n",
    "        super(Neural_net, self).__init__()                \n",
    "        self.fc1 = torch.nn.Linear(dim, n1)          \n",
    "        self.act1 = torch.nn.Tanh() \n",
    "        self.fc2 = torch.nn.Linear(n1, n2)\n",
    "        self.act2 = torch.nn.Tanh() \n",
    "        self.fc3 = torch.nn.Linear(n2, 1)\n",
    "\n",
    "    def forward(self, x):\n",
    "        x = self.fc1(x)\n",
    "        x = self.act1(x)\n",
    "        x = self.fc2(x)\n",
    "        x = self.act2(x)\n",
    "        x = self.fc3(x)\n",
    "        return x"
   ]
  },
  {
   "cell_type": "code",
   "execution_count": 123,
   "id": "d5b7491d-4159-4ff2-9a47-6d9739a73e20",
   "metadata": {},
   "outputs": [],
   "source": [
    "n1 = 5   \n",
    "n2 = 9\n",
    "\n",
    "network = Neural_net(n1, n2)\n",
    "\n",
    "def Predict(net, x, y):\n",
    "    \n",
    "    y_pred = net.forward(x)\n",
    "      \n",
    "    plt.plot(y.numpy(), y_pred.data.numpy(), 'o', c = 'r')\n",
    "    \n",
    "    plt.ylabel('Network prediction')  \n",
    "    \n",
    "    plt.xlabel('Calculated solubility')\n",
    "    \n",
    "    return y_pred\n",
    "    \n",
    "    #plt.legend(loc = 'upper right')\n",
    "    \n",
    "def RMSELoss(pred, true):\n",
    "    \n",
    "    return torch.sqrt(torch.mean((pred - true)**2))"
   ]
  },
  {
   "cell_type": "markdown",
   "id": "b730d1aa-20b0-490f-9fd9-3974c7a742ed",
   "metadata": {},
   "source": [
    "## Tuner"
   ]
  },
  {
   "cell_type": "code",
   "execution_count": 124,
   "id": "f9577947-7292-4e90-972f-b0d59ad39a14",
   "metadata": {},
   "outputs": [
    {
     "name": "stdout",
     "output_type": "stream",
     "text": [
      "tensor(5.6706, grad_fn=<SqrtBackward>)\n",
      "tensor(1.7800, grad_fn=<SqrtBackward>)\n",
      "tensor(1.4668, grad_fn=<SqrtBackward>)\n",
      "tensor(1.4101, grad_fn=<SqrtBackward>)\n",
      "tensor(1.3803, grad_fn=<SqrtBackward>)\n",
      "tensor(1.3488, grad_fn=<SqrtBackward>)\n",
      "tensor(1.3183, grad_fn=<SqrtBackward>)\n",
      "tensor(1.2842, grad_fn=<SqrtBackward>)\n",
      "tensor(1.1940, grad_fn=<SqrtBackward>)\n",
      "tensor(1.0924, grad_fn=<SqrtBackward>)\n"
     ]
    }
   ],
   "source": [
    "torch.manual_seed(seed)\n",
    "\n",
    "import random\n",
    "random.seed(seed)\n",
    "\n",
    "epoch = 20000\n",
    "\n",
    "optimizer = torch.optim.Adamax(network.parameters(), lr=0.0007) \n",
    "\n",
    "loss_points = []\n",
    "\n",
    "for e in range(epoch):\n",
    "    \n",
    "    optimizer.zero_grad() \n",
    "\n",
    "    y_pred = network.forward(train_x)\n",
    "    \n",
    "    loss_val = RMSELoss(y_pred, train_y)\n",
    "\n",
    "    loss_val.backward()\n",
    "    \n",
    "    optimizer.step()\n",
    "    \n",
    "    loss_points.append(loss_val)\n",
    "    \n",
    "    if not e % (epoch//10):\n",
    "        \n",
    "        print(loss_val)\n",
    "        \n",
    "    loss_points[len(loss_points)-1]"
   ]
  },
  {
   "cell_type": "code",
   "execution_count": 126,
   "id": "f6125a90-f263-42cd-a58b-7acd28ea9d1d",
   "metadata": {},
   "outputs": [
    {
     "data": {
      "image/png": "[encoded data removed]",
      "text/plain": [
       "<Figure size 504x360 with 1 Axes>"
      ]
     },
     "metadata": {
      "needs_background": "light"
     },
     "output_type": "display_data"
    }
   ],
   "source": [
    "a = Predict(network, test_x, test_y)"
   ]
  },
  {
   "cell_type": "code",
   "execution_count": 127,
   "id": "2225d6ce-9829-4691-9229-080979067f00",
   "metadata": {},
   "outputs": [
    {
     "name": "stdout",
     "output_type": "stream",
     "text": [
      "Accuracy: 1.3835\n"
     ]
    }
   ],
   "source": [
    "RMSE = sklearn.metrics.mean_squared_error(test_y.detach().numpy(), a.detach().numpy(), squared=False)  \n",
    "\n",
    "RMSE = round(RMSE, 4)\n",
    "\n",
    "print(\"Accuracy: %a\"%(RMSE)) "
   ]
  },
  {
   "cell_type": "code",
   "execution_count": 247,
   "id": "0a098713-5968-4190-aa67-bf849c1c00c8",
   "metadata": {},
   "outputs": [],
   "source": [
    "for i in range(len(loss_points)):\n",
    "        loss_points[i] = loss_points[i].detach().numpy()"
   ]
  },
  {
   "cell_type": "code",
   "execution_count": 248,
   "id": "e28a990f-f1ea-4412-9f6e-908ebec0080f",
   "metadata": {},
   "outputs": [
    {
     "data": {
      "image/png": "[encoded data removed]",
      "text/plain": [
       "<Figure size 504x360 with 1 Axes>"
      ]
     },
     "metadata": {
      "needs_background": "light"
     },
     "output_type": "display_data"
    }
   ],
   "source": [
    "plt.figure(figsize=(7, 5))\n",
    "plt.rcParams.update({'font.size': 11})\n",
    "plt.plot(range(0, epoch), loss_points, 'ro--', label='Train loss');\n",
    "plt.xlabel('Epochs')\n",
    "plt.ylabel('RMSE')\n",
    "plt.grid()\n",
    "plt.legend();"
   ]
  },
  {
   "cell_type": "markdown",
   "id": "ce495306-a20e-4b3c-a402-e47db4dc8f0b",
   "metadata": {},
   "source": [
    "# LNet1"
   ]
  },
  {
   "cell_type": "code",
   "execution_count": 96,
   "id": "827ae983-afa2-4bc9-ac67-15ab088e8cea",
   "metadata": {},
   "outputs": [],
   "source": [
    "class Neural_net(torch.nn.Module):                \n",
    "    def __init__(self, n):                       \n",
    "        super(Neural_net, self).__init__()                \n",
    "        self.fc1 = torch.nn.Linear(dim, n)          \n",
    "        self.act1 = torch.nn.Tanh()             \n",
    "        self.fc2 = torch.nn.Linear(n, 1)\n",
    "        self.act2 = torch.nn.Tanh() \n",
    "        self.fc3 = torch.nn.Linear(n2, 1)\n",
    "\n",
    "    def forward(self, x):\n",
    "        x = self.fc1(x)\n",
    "        x = self.act1(x)\n",
    "        x = self.fc2(x)\n",
    "        #x = self.act2(x)\n",
    "        #x = self.fc3(x)\n",
    "        return x"
   ]
  },
  {
   "cell_type": "code",
   "execution_count": 97,
   "id": "2518798a-6ecb-4f90-b900-a6bdc7350c13",
   "metadata": {},
   "outputs": [],
   "source": [
    "def search(n, train_x, train_y):\n",
    "    \n",
    "    network = Neural_net(n)\n",
    "\n",
    "    def Predict(net, x, y):\n",
    "        y_pred = net.forward(x)\n",
    "        return y_pred\n",
    "    \n",
    "    def RMSELoss(pred, true):   \n",
    "        return torch.sqrt(torch.mean((pred - true)**2))\n",
    "\n",
    "    epoch = 20000\n",
    "    optimizer = torch.optim.Adamax(network.parameters(), lr=0.0007) \n",
    "    loss_points = []\n",
    "    \n",
    "    torch.manual_seed(seed)\n",
    "    random.seed(seed)\n",
    "    \n",
    "    for e in range(epoch):\n",
    "        optimizer.zero_grad() \n",
    "        y_pred = network.forward(train_x)\n",
    "        loss_val = RMSELoss(y_pred, train_y)\n",
    "        loss_val.backward()\n",
    "        optimizer.step()\n",
    "        loss_points.append(loss_val)\n",
    "    \n",
    "    a = Predict(network, test_x, test_y)\n",
    "    \n",
    "    return a"
   ]
  },
  {
   "cell_type": "code",
   "execution_count": 121,
   "id": "b742fcb8-8d64-416b-aac3-1e5c9abf5794",
   "metadata": {},
   "outputs": [
    {
     "ename": "KeyboardInterrupt",
     "evalue": "",
     "output_type": "error",
     "traceback": [
      "\u001b[1;31m---------------------------------------------------------------------------\u001b[0m",
      "\u001b[1;31mKeyboardInterrupt\u001b[0m                         Traceback (most recent call last)",
      "\u001b[1;32m~\\AppData\\Local\\Temp/ipykernel_28740/2805471591.py\u001b[0m in \u001b[0;36m<module>\u001b[1;34m\u001b[0m\n\u001b[0;32m      3\u001b[0m \u001b[1;32mfor\u001b[0m \u001b[0mi\u001b[0m \u001b[1;32min\u001b[0m \u001b[0mrange\u001b[0m\u001b[1;33m(\u001b[0m\u001b[1;36m1\u001b[0m\u001b[1;33m,\u001b[0m\u001b[1;36m20\u001b[0m\u001b[1;33m)\u001b[0m\u001b[1;33m:\u001b[0m\u001b[1;33m\u001b[0m\u001b[1;33m\u001b[0m\u001b[0m\n\u001b[0;32m      4\u001b[0m \u001b[1;33m\u001b[0m\u001b[0m\n\u001b[1;32m----> 5\u001b[1;33m     \u001b[0ma\u001b[0m \u001b[1;33m=\u001b[0m \u001b[0msearch\u001b[0m\u001b[1;33m(\u001b[0m\u001b[0mi\u001b[0m\u001b[1;33m,\u001b[0m \u001b[0mtrain_x\u001b[0m\u001b[1;33m,\u001b[0m \u001b[0mtrain_y\u001b[0m\u001b[1;33m)\u001b[0m\u001b[1;33m\u001b[0m\u001b[1;33m\u001b[0m\u001b[0m\n\u001b[0m\u001b[0;32m      6\u001b[0m \u001b[1;33m\u001b[0m\u001b[0m\n\u001b[0;32m      7\u001b[0m     \u001b[0mRMSE_loss\u001b[0m \u001b[1;33m=\u001b[0m \u001b[0msklearn\u001b[0m\u001b[1;33m.\u001b[0m\u001b[0mmetrics\u001b[0m\u001b[1;33m.\u001b[0m\u001b[0mmean_squared_error\u001b[0m\u001b[1;33m(\u001b[0m\u001b[0mtest_y\u001b[0m\u001b[1;33m.\u001b[0m\u001b[0mdetach\u001b[0m\u001b[1;33m(\u001b[0m\u001b[1;33m)\u001b[0m\u001b[1;33m.\u001b[0m\u001b[0mnumpy\u001b[0m\u001b[1;33m(\u001b[0m\u001b[1;33m)\u001b[0m\u001b[1;33m,\u001b[0m \u001b[0ma\u001b[0m\u001b[1;33m.\u001b[0m\u001b[0mdetach\u001b[0m\u001b[1;33m(\u001b[0m\u001b[1;33m)\u001b[0m\u001b[1;33m.\u001b[0m\u001b[0mnumpy\u001b[0m\u001b[1;33m(\u001b[0m\u001b[1;33m)\u001b[0m\u001b[1;33m,\u001b[0m \u001b[0msquared\u001b[0m\u001b[1;33m=\u001b[0m\u001b[1;32mFalse\u001b[0m\u001b[1;33m)\u001b[0m\u001b[1;33m\u001b[0m\u001b[1;33m\u001b[0m\u001b[0m\n",
      "\u001b[1;32m~\\AppData\\Local\\Temp/ipykernel_28740/135626991.py\u001b[0m in \u001b[0;36msearch\u001b[1;34m(n, train_x, train_y)\u001b[0m\n\u001b[0;32m     22\u001b[0m         \u001b[0mloss_val\u001b[0m \u001b[1;33m=\u001b[0m \u001b[0mRMSELoss\u001b[0m\u001b[1;33m(\u001b[0m\u001b[0my_pred\u001b[0m\u001b[1;33m,\u001b[0m \u001b[0mtrain_y\u001b[0m\u001b[1;33m)\u001b[0m\u001b[1;33m\u001b[0m\u001b[1;33m\u001b[0m\u001b[0m\n\u001b[0;32m     23\u001b[0m         \u001b[0mloss_val\u001b[0m\u001b[1;33m.\u001b[0m\u001b[0mbackward\u001b[0m\u001b[1;33m(\u001b[0m\u001b[1;33m)\u001b[0m\u001b[1;33m\u001b[0m\u001b[1;33m\u001b[0m\u001b[0m\n\u001b[1;32m---> 24\u001b[1;33m         \u001b[0moptimizer\u001b[0m\u001b[1;33m.\u001b[0m\u001b[0mstep\u001b[0m\u001b[1;33m(\u001b[0m\u001b[1;33m)\u001b[0m\u001b[1;33m\u001b[0m\u001b[1;33m\u001b[0m\u001b[0m\n\u001b[0m\u001b[0;32m     25\u001b[0m         \u001b[0mloss_points\u001b[0m\u001b[1;33m.\u001b[0m\u001b[0mappend\u001b[0m\u001b[1;33m(\u001b[0m\u001b[0mloss_val\u001b[0m\u001b[1;33m)\u001b[0m\u001b[1;33m\u001b[0m\u001b[1;33m\u001b[0m\u001b[0m\n\u001b[0;32m     26\u001b[0m \u001b[1;33m\u001b[0m\u001b[0m\n",
      "\u001b[1;32m~\\anaconda3\\envs\\my-rdkit-env\\lib\\site-packages\\torch\\optim\\adamax.py\u001b[0m in \u001b[0;36mstep\u001b[1;34m(self, closure)\u001b[0m\n\u001b[0;32m     73\u001b[0m \u001b[1;33m\u001b[0m\u001b[0m\n\u001b[0;32m     74\u001b[0m                 \u001b[1;31m# Update biased first moment estimate.\u001b[0m\u001b[1;33m\u001b[0m\u001b[1;33m\u001b[0m\u001b[1;33m\u001b[0m\u001b[0m\n\u001b[1;32m---> 75\u001b[1;33m                 \u001b[0mexp_avg\u001b[0m\u001b[1;33m.\u001b[0m\u001b[0mmul_\u001b[0m\u001b[1;33m(\u001b[0m\u001b[0mbeta1\u001b[0m\u001b[1;33m)\u001b[0m\u001b[1;33m.\u001b[0m\u001b[0madd_\u001b[0m\u001b[1;33m(\u001b[0m\u001b[1;36m1\u001b[0m \u001b[1;33m-\u001b[0m \u001b[0mbeta1\u001b[0m\u001b[1;33m,\u001b[0m \u001b[0mgrad\u001b[0m\u001b[1;33m)\u001b[0m\u001b[1;33m\u001b[0m\u001b[1;33m\u001b[0m\u001b[0m\n\u001b[0m\u001b[0;32m     76\u001b[0m                 \u001b[1;31m# Update the exponentially weighted infinity norm.\u001b[0m\u001b[1;33m\u001b[0m\u001b[1;33m\u001b[0m\u001b[1;33m\u001b[0m\u001b[0m\n\u001b[0;32m     77\u001b[0m                 norm_buf = torch.cat([\n",
      "\u001b[1;31mKeyboardInterrupt\u001b[0m: "
     ]
    }
   ],
   "source": [
    "res = []\n",
    "\n",
    "for i in range(1,20):\n",
    "    \n",
    "    a = search(i, train_x, train_y)\n",
    "    \n",
    "    RMSE_loss = sklearn.metrics.mean_squared_error(test_y.detach().numpy(), a.detach().numpy(), squared=False)  \n",
    "\n",
    "    RMSE_loss = round(RMSE_loss, 4)\n",
    "    \n",
    "    res_dict = {'n_neurons': i, 'RMSE': RMSE_loss}\n",
    "    \n",
    "    res.append(res_dict)\n",
    "    \n",
    "res = pd.DataFrame(res)"
   ]
  },
  {
   "cell_type": "code",
   "execution_count": 116,
   "id": "aef42e19-df40-4e03-a531-b2ebd1195741",
   "metadata": {},
   "outputs": [
    {
     "ename": "AttributeError",
     "evalue": "'list' object has no attribute 'sort_values'",
     "output_type": "error",
     "traceback": [
      "\u001b[1;31m---------------------------------------------------------------------------\u001b[0m",
      "\u001b[1;31mAttributeError\u001b[0m                            Traceback (most recent call last)",
      "\u001b[1;32m~\\AppData\\Local\\Temp/ipykernel_28740/1571991132.py\u001b[0m in \u001b[0;36m<module>\u001b[1;34m\u001b[0m\n\u001b[1;32m----> 1\u001b[1;33m \u001b[0mres\u001b[0m\u001b[1;33m.\u001b[0m\u001b[0msort_values\u001b[0m\u001b[1;33m(\u001b[0m\u001b[0mby\u001b[0m\u001b[1;33m=\u001b[0m\u001b[1;34m'RMSE'\u001b[0m\u001b[1;33m)\u001b[0m\u001b[1;33m.\u001b[0m\u001b[0mhead\u001b[0m\u001b[1;33m(\u001b[0m\u001b[1;33m)\u001b[0m\u001b[1;33m\u001b[0m\u001b[1;33m\u001b[0m\u001b[0m\n\u001b[0m",
      "\u001b[1;31mAttributeError\u001b[0m: 'list' object has no attribute 'sort_values'"
     ]
    }
   ],
   "source": [
    "res.sort_values(by='RMSE').head()"
   ]
  },
  {
   "cell_type": "markdown",
   "id": "34440952-b29c-4ccb-a630-ef15ae8dc4aa",
   "metadata": {},
   "source": [
    "# LNet2"
   ]
  },
  {
   "cell_type": "code",
   "execution_count": 111,
   "id": "e11cf489-ce3d-4b14-a535-120efa2ab0a2",
   "metadata": {},
   "outputs": [],
   "source": [
    "class Neural_net(torch.nn.Module):                \n",
    "    def __init__(self, n1, n2):                       \n",
    "        super(Neural_net, self).__init__()                \n",
    "        self.fc1 = torch.nn.Linear(dim, n1)          \n",
    "        self.act1 = torch.nn.Tanh()             \n",
    "        self.fc2 = torch.nn.Linear(n1, n2)\n",
    "        self.act2 = torch.nn.Tanh() \n",
    "        self.fc3 = torch.nn.Linear(n2, 1)\n",
    "\n",
    "    def forward(self, x):\n",
    "        x = self.fc1(x)\n",
    "        x = self.act1(x)\n",
    "        x = self.fc2(x)\n",
    "        x = self.act2(x)\n",
    "        x = self.fc3(x)\n",
    "        return x"
   ]
  },
  {
   "cell_type": "code",
   "execution_count": 112,
   "id": "ca81e705-d040-4c52-a84e-02cbff32db8c",
   "metadata": {},
   "outputs": [],
   "source": [
    "def search(n1, n2, train_x, train_y):\n",
    "    \n",
    "    network = Neural_net(n1, n2)\n",
    "\n",
    "    def Predict(net, x, y):\n",
    "        y_pred = net.forward(x)\n",
    "        return y_pred\n",
    "    \n",
    "    def RMSELoss(pred, true):   \n",
    "        return torch.sqrt(torch.mean((pred - true)**2))\n",
    "\n",
    "    epoch = 20000\n",
    "    optimizer = torch.optim.Adamax(network.parameters(), lr = 0.0007) \n",
    "    loss_points = []\n",
    "    \n",
    "    torch.manual_seed(seed)\n",
    "    random.seed(seed)\n",
    "    \n",
    "    for e in range(epoch):\n",
    "        optimizer.zero_grad() \n",
    "        y_pred = network.forward(train_x)\n",
    "        loss_val = RMSELoss(y_pred, train_y)\n",
    "        loss_val.backward()\n",
    "        optimizer.step()\n",
    "        loss_points.append(loss_val)\n",
    "        \n",
    "        if e==epoch-1:\n",
    "            print(loss_val)\n",
    "    \n",
    "    a = Predict(network, test_x, test_y)\n",
    "    \n",
    "    return a"
   ]
  },
  {
   "cell_type": "code",
   "execution_count": 113,
   "id": "6ec58ff3-dd35-41ec-ac45-5eb94cb1c5ac",
   "metadata": {},
   "outputs": [
    {
     "name": "stdout",
     "output_type": "stream",
     "text": [
      "tensor(1.8300, grad_fn=<SqrtBackward>)\n",
      "tensor(1.8136, grad_fn=<SqrtBackward>)\n",
      "tensor(1.8127, grad_fn=<SqrtBackward>)\n",
      "tensor(1.7932, grad_fn=<SqrtBackward>)\n",
      "tensor(1.8060, grad_fn=<SqrtBackward>)\n",
      "tensor(1.5335, grad_fn=<SqrtBackward>)\n",
      "tensor(1.3725, grad_fn=<SqrtBackward>)\n",
      "tensor(1.3888, grad_fn=<SqrtBackward>)\n",
      "tensor(1.4241, grad_fn=<SqrtBackward>)\n",
      "tensor(1.4335, grad_fn=<SqrtBackward>)\n",
      "tensor(1.4298, grad_fn=<SqrtBackward>)\n",
      "tensor(1.2916, grad_fn=<SqrtBackward>)\n",
      "tensor(1.2649, grad_fn=<SqrtBackward>)\n",
      "tensor(1.3101, grad_fn=<SqrtBackward>)\n",
      "tensor(1.0506, grad_fn=<SqrtBackward>)\n",
      "tensor(1.3027, grad_fn=<SqrtBackward>)\n",
      "tensor(1.1641, grad_fn=<SqrtBackward>)\n",
      "tensor(1.1867, grad_fn=<SqrtBackward>)\n",
      "tensor(1.0509, grad_fn=<SqrtBackward>)\n",
      "tensor(1.0831, grad_fn=<SqrtBackward>)\n",
      "tensor(1.2503, grad_fn=<SqrtBackward>)\n",
      "tensor(1.1868, grad_fn=<SqrtBackward>)\n",
      "tensor(1.0689, grad_fn=<SqrtBackward>)\n",
      "tensor(0.9456, grad_fn=<SqrtBackward>)\n",
      "tensor(0.7950, grad_fn=<SqrtBackward>)\n",
      "tensor(1.2263, grad_fn=<SqrtBackward>)\n",
      "tensor(1.0194, grad_fn=<SqrtBackward>)\n",
      "tensor(1.0961, grad_fn=<SqrtBackward>)\n",
      "tensor(0.8188, grad_fn=<SqrtBackward>)\n",
      "tensor(1.0110, grad_fn=<SqrtBackward>)\n",
      "tensor(1.1814, grad_fn=<SqrtBackward>)\n",
      "tensor(1.1453, grad_fn=<SqrtBackward>)\n",
      "tensor(1.0338, grad_fn=<SqrtBackward>)\n",
      "tensor(0.7642, grad_fn=<SqrtBackward>)\n",
      "tensor(0.7935, grad_fn=<SqrtBackward>)\n",
      "tensor(1.1674, grad_fn=<SqrtBackward>)\n",
      "tensor(1.0262, grad_fn=<SqrtBackward>)\n",
      "tensor(0.8968, grad_fn=<SqrtBackward>)\n",
      "tensor(0.7564, grad_fn=<SqrtBackward>)\n",
      "tensor(0.7477, grad_fn=<SqrtBackward>)\n",
      "tensor(1.1227, grad_fn=<SqrtBackward>)\n",
      "tensor(0.9293, grad_fn=<SqrtBackward>)\n",
      "tensor(0.8240, grad_fn=<SqrtBackward>)\n",
      "tensor(0.8182, grad_fn=<SqrtBackward>)\n",
      "tensor(0.6756, grad_fn=<SqrtBackward>)\n",
      "tensor(1.1407, grad_fn=<SqrtBackward>)\n",
      "tensor(0.8536, grad_fn=<SqrtBackward>)\n",
      "tensor(0.9314, grad_fn=<SqrtBackward>)\n",
      "tensor(0.7136, grad_fn=<SqrtBackward>)\n",
      "tensor(0.6952, grad_fn=<SqrtBackward>)\n"
     ]
    }
   ],
   "source": [
    "res_2 = []\n",
    "\n",
    "for i in range(1,21, 2):\n",
    "    \n",
    "    for j in range(1,11, 2):\n",
    "    \n",
    "        a = search(i, j, train_x, train_y)\n",
    "    \n",
    "        RMSE_loss = sklearn.metrics.mean_squared_error(test_y.detach().numpy(), a.detach().numpy(), squared=False)  \n",
    "\n",
    "        RMSE_loss = round(RMSE_loss, 4)\n",
    "    \n",
    "        res_dict = {'n_neurons_1': i, 'n_neurons_2': j, 'RMSE': RMSE_loss}\n",
    "    \n",
    "        res_2.append(res_dict)\n",
    "    \n",
    "res_2 = pd.DataFrame(res_2)"
   ]
  },
  {
   "cell_type": "code",
   "execution_count": 114,
   "id": "39ab1b98-a050-45af-9a11-afc640d8d113",
   "metadata": {},
   "outputs": [
    {
     "data": {
      "text/html": [
       "<div>\n",
       "<style scoped>\n",
       "    .dataframe tbody tr th:only-of-type {\n",
       "        vertical-align: middle;\n",
       "    }\n",
       "\n",
       "    .dataframe tbody tr th {\n",
       "        vertical-align: top;\n",
       "    }\n",
       "\n",
       "    .dataframe thead th {\n",
       "        text-align: right;\n",
       "    }\n",
       "</style>\n",
       "<table border=\"1\" class=\"dataframe\">\n",
       "  <thead>\n",
       "    <tr style=\"text-align: right;\">\n",
       "      <th></th>\n",
       "      <th>n_neurons_1</th>\n",
       "      <th>n_neurons_2</th>\n",
       "      <th>RMSE</th>\n",
       "    </tr>\n",
       "  </thead>\n",
       "  <tbody>\n",
       "    <tr>\n",
       "      <th>14</th>\n",
       "      <td>5</td>\n",
       "      <td>9</td>\n",
       "      <td>1.3835</td>\n",
       "    </tr>\n",
       "    <tr>\n",
       "      <th>42</th>\n",
       "      <td>17</td>\n",
       "      <td>5</td>\n",
       "      <td>1.5015</td>\n",
       "    </tr>\n",
       "    <tr>\n",
       "      <th>32</th>\n",
       "      <td>13</td>\n",
       "      <td>5</td>\n",
       "      <td>1.5110</td>\n",
       "    </tr>\n",
       "    <tr>\n",
       "      <th>19</th>\n",
       "      <td>7</td>\n",
       "      <td>9</td>\n",
       "      <td>1.5144</td>\n",
       "    </tr>\n",
       "    <tr>\n",
       "      <th>39</th>\n",
       "      <td>15</td>\n",
       "      <td>9</td>\n",
       "      <td>1.5260</td>\n",
       "    </tr>\n",
       "  </tbody>\n",
       "</table>\n",
       "</div>"
      ],
      "text/plain": [
       "    n_neurons_1  n_neurons_2    RMSE\n",
       "14            5            9  1.3835\n",
       "42           17            5  1.5015\n",
       "32           13            5  1.5110\n",
       "19            7            9  1.5144\n",
       "39           15            9  1.5260"
      ]
     },
     "execution_count": 114,
     "metadata": {},
     "output_type": "execute_result"
    }
   ],
   "source": [
    "res_2.sort_values(by='RMSE').head()"
   ]
  },
  {
   "cell_type": "code",
   "execution_count": 118,
   "id": "925d9e47-fc67-416b-a440-091e90c533db",
   "metadata": {},
   "outputs": [],
   "source": [
    "path = 'C:/Users/7000f/OneDrive/Рабочий стол/пту/7 семестр/УИРС/torch_tuning/'\n",
    "\n",
    "res_2.to_csv(path + 'Two-layer NN RMSE', index=False)"
   ]
  }
 ],
 "metadata": {
  "kernelspec": {
   "display_name": "Python 3 (ipykernel)",
   "language": "python",
   "name": "python3"
  },
  "language_info": {
   "codemirror_mode": {
    "name": "ipython",
    "version": 3
   },
   "file_extension": ".py",
   "mimetype": "text/x-python",
   "name": "python",
   "nbconvert_exporter": "python",
   "pygments_lexer": "ipython3",
   "version": "3.9.12"
  },
  "toc-autonumbering": true,
  "toc-showcode": false,
  "toc-showmarkdowntxt": false,
  "toc-showtags": false
 },
 "nbformat": 4,
 "nbformat_minor": 5
}
