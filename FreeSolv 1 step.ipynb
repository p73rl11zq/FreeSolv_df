{
 "cells": [
  {
   "cell_type": "code",
   "execution_count": 119,
   "id": "d65b2b89-e051-451f-a27e-b9c416f9f8b8",
   "metadata": {},
   "outputs": [],
   "source": [
    "import pandas as pd\n",
    "import numpy as np\n",
    "import statistics\n",
    "import matplotlib\n",
    "from matplotlib import pyplot as plt\n",
    "import rdkit\n",
    "from rdkit import Chem\n",
    "from rdkit.Chem import PandasTools\n",
    "from rdkit.Chem import Descriptors\n",
    "from rdkit.Chem import AllChem\n",
    "import torch\n",
    "import sklearn\n",
    "import sklearn.linear_model as lm\n",
    "from sklearn.ensemble import RandomForestRegressor\n",
    "from sklearn.ensemble import GradientBoostingRegressor\n",
    "from sklearn.ensemble import BaggingRegressor\n",
    "from sklearn.datasets import make_regression\n",
    "from sklearn.model_selection import cross_validate\n",
    "from sklearn.model_selection import cross_val_score\n",
    "from sklearn.model_selection import train_test_split\n",
    "from sklearn.model_selection import RandomizedSearchCV\n",
    "#from descriptastorus.descriptors import rdDescriptors\n",
    "\n",
    "%matplotlib inline\n",
    "matplotlib.rcParams['figure.figsize'] = (10.0, 7.0)"
   ]
  },
  {
   "cell_type": "markdown",
   "id": "7c9a7ac8-a3db-4f96-9c2d-1a62983bce57",
   "metadata": {
    "tags": []
   },
   "source": [
    "# Data reading"
   ]
  },
  {
   "cell_type": "code",
   "execution_count": 121,
   "id": "cd1f1398-200e-4bd7-95e4-d42a03306c0d",
   "metadata": {},
   "outputs": [
    {
     "data": {
      "text/html": [
       "<div>\n",
       "<style scoped>\n",
       "    .dataframe tbody tr th:only-of-type {\n",
       "        vertical-align: middle;\n",
       "    }\n",
       "\n",
       "    .dataframe tbody tr th {\n",
       "        vertical-align: top;\n",
       "    }\n",
       "\n",
       "    .dataframe thead th {\n",
       "        text-align: right;\n",
       "    }\n",
       "</style>\n",
       "<table border=\"1\" class=\"dataframe\">\n",
       "  <thead>\n",
       "    <tr style=\"text-align: right;\">\n",
       "      <th></th>\n",
       "      <th>iupac</th>\n",
       "      <th>smiles</th>\n",
       "      <th>expt</th>\n",
       "      <th>calc</th>\n",
       "    </tr>\n",
       "  </thead>\n",
       "  <tbody>\n",
       "    <tr>\n",
       "      <th>0</th>\n",
       "      <td>4-methoxy-N,N-dimethyl-benzamide</td>\n",
       "      <td>CN(C)C(=O)c1ccc(cc1)OC</td>\n",
       "      <td>-11.01</td>\n",
       "      <td>-9.625</td>\n",
       "    </tr>\n",
       "  </tbody>\n",
       "</table>\n",
       "</div>"
      ],
      "text/plain": [
       "                              iupac                  smiles   expt   calc\n",
       "0  4-methoxy-N,N-dimethyl-benzamide  CN(C)C(=O)c1ccc(cc1)OC -11.01 -9.625"
      ]
     },
     "execution_count": 121,
     "metadata": {},
     "output_type": "execute_result"
    }
   ],
   "source": [
    "data_path = 'z_ML datasets__/'\n",
    "\n",
    "FreeSolve_df = pd.read_csv(data_path + 'SAMPL.csv')\n",
    "\n",
    "FreeSolve_df.head(1)"
   ]
  },
  {
   "cell_type": "code",
   "execution_count": 122,
   "id": "aa8bee05-0e5d-454c-802b-2b54261916b9",
   "metadata": {},
   "outputs": [],
   "source": [
    "# FreeSolve_df.expt.hist(figsize = (10,7), bins=100)"
   ]
  },
  {
   "cell_type": "code",
   "execution_count": 123,
   "id": "26d8395c-65fd-4438-a123-aa1b9dfa7815",
   "metadata": {},
   "outputs": [
    {
     "data": {
      "text/html": [
       "<div>\n",
       "<style scoped>\n",
       "    .dataframe tbody tr th:only-of-type {\n",
       "        vertical-align: middle;\n",
       "    }\n",
       "\n",
       "    .dataframe tbody tr th {\n",
       "        vertical-align: top;\n",
       "    }\n",
       "\n",
       "    .dataframe thead th {\n",
       "        text-align: right;\n",
       "    }\n",
       "</style>\n",
       "<table border=\"1\" class=\"dataframe\">\n",
       "  <thead>\n",
       "    <tr style=\"text-align: right;\">\n",
       "      <th></th>\n",
       "      <th>iupac</th>\n",
       "      <th>smiles</th>\n",
       "      <th>expt</th>\n",
       "      <th>calc</th>\n",
       "    </tr>\n",
       "  </thead>\n",
       "  <tbody>\n",
       "    <tr>\n",
       "      <th>179</th>\n",
       "      <td>1,1,1-trimethoxyethane</td>\n",
       "      <td>CC(OC)(OC)OC</td>\n",
       "      <td>-4.42</td>\n",
       "      <td>-3.700</td>\n",
       "    </tr>\n",
       "    <tr>\n",
       "      <th>533</th>\n",
       "      <td>1-phenylethanone</td>\n",
       "      <td>CC(=O)c1ccccc1</td>\n",
       "      <td>-4.58</td>\n",
       "      <td>-5.078</td>\n",
       "    </tr>\n",
       "    <tr>\n",
       "      <th>526</th>\n",
       "      <td>methanethiol</td>\n",
       "      <td>CS</td>\n",
       "      <td>-1.20</td>\n",
       "      <td>-0.273</td>\n",
       "    </tr>\n",
       "    <tr>\n",
       "      <th>260</th>\n",
       "      <td>ethylene</td>\n",
       "      <td>C=C</td>\n",
       "      <td>1.28</td>\n",
       "      <td>2.328</td>\n",
       "    </tr>\n",
       "    <tr>\n",
       "      <th>82</th>\n",
       "      <td>phenylmethanol</td>\n",
       "      <td>c1ccc(cc1)CO</td>\n",
       "      <td>-6.62</td>\n",
       "      <td>-5.133</td>\n",
       "    </tr>\n",
       "  </tbody>\n",
       "</table>\n",
       "</div>"
      ],
      "text/plain": [
       "                      iupac          smiles  expt   calc\n",
       "179  1,1,1-trimethoxyethane    CC(OC)(OC)OC -4.42 -3.700\n",
       "533        1-phenylethanone  CC(=O)c1ccccc1 -4.58 -5.078\n",
       "526            methanethiol              CS -1.20 -0.273\n",
       "260                ethylene             C=C  1.28  2.328\n",
       "82           phenylmethanol    c1ccc(cc1)CO -6.62 -5.133"
      ]
     },
     "execution_count": 123,
     "metadata": {},
     "output_type": "execute_result"
    }
   ],
   "source": [
    "seed = 1\n",
    "\n",
    "FreeSolve_df.sample(frac=.8, random_state = seed).head()"
   ]
  },
  {
   "cell_type": "code",
   "execution_count": 124,
   "id": "1cbe0c4c-db7e-4653-8fa2-f65ac73a672d",
   "metadata": {},
   "outputs": [
    {
     "data": {
      "image/png": "[encoded data removed]",
      "text/plain": [
       "<Figure size 720x504 with 1 Axes>"
      ]
     },
     "metadata": {
      "needs_background": "light"
     },
     "output_type": "display_data"
    }
   ],
   "source": [
    "# plot below is taken from dataset creator article; it reflects general form of dependence between predicted value and calculated\n",
    "\n",
    "FreeSolve_df.plot(x='expt', y='calc', style='o')  \n",
    "\n",
    "plt.title('expt vs calc')  \n",
    "\n",
    "plt.xlabel('expt');  plt.ylabel('calc')\n",
    "\n",
    "plt.show()"
   ]
  },
  {
   "cell_type": "markdown",
   "id": "f2ea4eea-c145-4852-bd7a-00b2c47b111e",
   "metadata": {},
   "source": [
    "# Data processing"
   ]
  },
  {
   "cell_type": "markdown",
   "id": "7eb12cc5-9773-4b97-9429-2a7fcebe4784",
   "metadata": {},
   "source": [
    "Filling train/test sets with certain chemical features extracted from SMILES with RDkit module:"
   ]
  },
  {
   "cell_type": "code",
   "execution_count": 125,
   "id": "8d442b85-8595-4a6c-8391-914ec2d2d0ce",
   "metadata": {},
   "outputs": [
    {
     "data": {
      "text/html": [
       "<div>\n",
       "<style scoped>\n",
       "    .dataframe tbody tr th:only-of-type {\n",
       "        vertical-align: middle;\n",
       "    }\n",
       "\n",
       "    .dataframe tbody tr th {\n",
       "        vertical-align: top;\n",
       "    }\n",
       "\n",
       "    .dataframe thead th {\n",
       "        text-align: right;\n",
       "    }\n",
       "</style>\n",
       "<table border=\"1\" class=\"dataframe\">\n",
       "  <thead>\n",
       "    <tr style=\"text-align: right;\">\n",
       "      <th></th>\n",
       "      <th>iupac</th>\n",
       "      <th>smiles</th>\n",
       "      <th>expt</th>\n",
       "      <th>calc</th>\n",
       "      <th>ROMol</th>\n",
       "      <th>n_Atoms</th>\n",
       "      <th>Molec_weight</th>\n",
       "      <th>LogP</th>\n",
       "      <th>AP</th>\n",
       "      <th>HA</th>\n",
       "      <th>MaxCharge_abs</th>\n",
       "      <th>MaxCharge</th>\n",
       "    </tr>\n",
       "  </thead>\n",
       "  <tbody>\n",
       "    <tr>\n",
       "      <th>0</th>\n",
       "      <td>4-methoxy-N,N-dimethyl-benzamide</td>\n",
       "      <td>CN(C)C(=O)c1ccc(cc1)OC</td>\n",
       "      <td>-11.01</td>\n",
       "      <td>-9.625</td>\n",
       "      <td><img data-content=\"rdkit/molecule\" src=\"data:image/png;base64,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\" alt=\"Mol\"/></td>\n",
       "      <td>13</td>\n",
       "      <td>179.219</td>\n",
       "      <td>1.397</td>\n",
       "      <td>1</td>\n",
       "      <td>0.076923</td>\n",
       "      <td>0.496768</td>\n",
       "      <td>0.252836</td>\n",
       "    </tr>\n",
       "  </tbody>\n",
       "</table>\n",
       "</div>"
      ],
      "text/plain": [
       "                              iupac                  smiles   expt   calc  \\\n",
       "0  4-methoxy-N,N-dimethyl-benzamide  CN(C)C(=O)c1ccc(cc1)OC -11.01 -9.625   \n",
       "\n",
       "                                               ROMol  n_Atoms  Molec_weight  \\\n",
       "0  <img data-content=\"rdkit/molecule\" src=\"data:i...       13       179.219   \n",
       "\n",
       "    LogP  AP        HA  MaxCharge_abs  MaxCharge  \n",
       "0  1.397   1  0.076923       0.496768   0.252836  "
      ]
     },
     "execution_count": 125,
     "metadata": {},
     "output_type": "execute_result"
    }
   ],
   "source": [
    "# before saving the file you should drop ROMol column \"FreeSolve_df = FreeSolve_df.drop(['%name'], axis=1)\"\n",
    "\n",
    "PandasTools.AddMoleculeColumnToFrame(FreeSolve_df, smilesCol='smiles')\n",
    "\n",
    "FreeSolve_df['n_Atoms'] = FreeSolve_df['ROMol'].map(lambda x: x.GetNumAtoms())\n",
    " \n",
    "FreeSolve_df['Molec_weight'] = [Descriptors.MolWt(mol) for mol in FreeSolve_df['ROMol']]\n",
    "\n",
    "FreeSolve_df['LogP'] = [Chem.Crippen.MolLogP(mol) for mol in FreeSolve_df['ROMol']]\n",
    "\n",
    "FreeSolve_df['AP'] = [Chem.rdMolDescriptors.CalcNumAromaticRings(mol) for mol in FreeSolve_df['ROMol']]\n",
    "\n",
    "FreeSolve_df['HA'] = [Chem.rdMolDescriptors.CalcNumAromaticRings(mol) / mol.GetNumHeavyAtoms() for mol in FreeSolve_df['ROMol']]\n",
    "\n",
    "FreeSolve_df['MaxCharge_abs'] = [Descriptors.MaxAbsPartialCharge(mol) for mol in FreeSolve_df['ROMol']]\n",
    "\n",
    "FreeSolve_df['MaxCharge'] = [Descriptors.MaxPartialCharge(mol) for mol in FreeSolve_df['ROMol']]\n",
    "\n",
    "#FreeSolve_df = FreeSolve_df.drop(['FP_1'], axis=1)\n",
    "\n",
    "FreeSolve_df.head(1)"
   ]
  },
  {
   "cell_type": "code",
   "execution_count": 126,
   "id": "bcc6e321-bd2f-45ad-8d4c-2a9cb7ee502f",
   "metadata": {},
   "outputs": [
    {
     "name": "stdout",
     "output_type": "stream",
     "text": [
      "Train set shape: (514, 12) \n",
      " Test set shape: (128, 12)\n"
     ]
    }
   ],
   "source": [
    "train_df = FreeSolve_df.sample(frac=.8, random_state = seed)\n",
    "test_df = FreeSolve_df[~FreeSolve_df.index.isin(train_df.index)]\n",
    "\n",
    "print('Train set shape:', train_df.shape, '\\n', 'Test set shape:', test_df.shape)"
   ]
  },
  {
   "cell_type": "code",
   "execution_count": 127,
   "id": "1725642e-ad27-4d54-8513-3776561b0209",
   "metadata": {},
   "outputs": [],
   "source": [
    "target = 'calc'\n",
    "\n",
    "dim = 6\n",
    "\n",
    "signs = ['MaxCharge_abs', 'MaxCharge', 'LogP', 'Molec_weight', 'HA', 'AP']\n",
    "\n",
    "train_y = np.asanyarray(train_df[[target]]).astype(np.float32)\n",
    "train_x = np.asanyarray(train_df[[signs[0],signs[1],signs[2],signs[3],signs[4],signs[5]]]).astype(np.float32)\n",
    "\n",
    "train_x = torch.from_numpy(train_x.reshape(train_x.shape[0], dim))\n",
    "train_y = torch.from_numpy(train_y.reshape(train_y.shape[0], 1))\n",
    "\n",
    "test_y = np.asanyarray(test_df[[target]]).astype(np.float32)\n",
    "test_x = np.asanyarray(test_df[[signs[0],signs[1],signs[2],signs[3],signs[4],signs[5]]]).astype(np.float32)\n",
    "\n",
    "test_x = torch.from_numpy(test_x.reshape(test_x.shape[0], dim))\n",
    "test_y = torch.from_numpy(test_y.reshape(test_y.shape[0], 1))"
   ]
  },
  {
   "cell_type": "markdown",
   "id": "d1977d0d-2c87-4f04-9a1a-0bc7093d42d1",
   "metadata": {
    "tags": []
   },
   "source": [
    "# Random forest"
   ]
  },
  {
   "cell_type": "code",
   "execution_count": 128,
   "id": "6a08cf6c-b538-4ba8-a54a-397e91a871f0",
   "metadata": {},
   "outputs": [
    {
     "name": "stdout",
     "output_type": "stream",
     "text": [
      "Cross-val general: 0.8032\n"
     ]
    }
   ],
   "source": [
    "type1 = 'Random Forest'\n",
    "\n",
    "RF_Reg = RandomForestRegressor(random_state=seed)  #(n_estimators = 100, , min_samples_split=10, min_samples_leaf=20)\n",
    "\n",
    "RF_Reg.fit(train_x, train_y.numpy().ravel())\n",
    "\n",
    "CV_RF = cross_validate(RF_Reg, train_x, train_y.numpy().ravel(), cv=5)\n",
    "\n",
    "CV_RF['test_score'] = np.around(CV_RF['test_score'], 3)\n",
    "\n",
    "CV_RF = np.mean(CV_RF['test_score'])\n",
    "#sorted(cv_results.keys())\n",
    "print('Cross-val general:', CV_RF)"
   ]
  },
  {
   "cell_type": "code",
   "execution_count": 129,
   "id": "faee165a-8d1c-4cc9-9a41-b6da239ac389",
   "metadata": {},
   "outputs": [
    {
     "name": "stdout",
     "output_type": "stream",
     "text": [
      "Accuracy: 87.17%\n"
     ]
    }
   ],
   "source": [
    "RF_Reg = RF_Reg.predict(test_x)\n",
    "\n",
    "accuracy_RF = sklearn.metrics.r2_score(test_y.detach().numpy(), RF_Reg) \n",
    "\n",
    "accuracy_RF = (round(accuracy_RF*100, 3))\n",
    "\n",
    "print(\"Accuracy: %a\"%accuracy_RF + \"%\") "
   ]
  },
  {
   "cell_type": "code",
   "execution_count": 130,
   "id": "da102568-1948-4b6a-a2d6-5c69707e9d0e",
   "metadata": {},
   "outputs": [
    {
     "data": {
      "image/png": "[encoded data removed]",
      "text/plain": [
       "<Figure size 720x504 with 1 Axes>"
      ]
     },
     "metadata": {
      "needs_background": "light"
     },
     "output_type": "display_data"
    }
   ],
   "source": [
    "plt.plot(test_y.numpy(), RF_Reg, 'o', c = 'b', label = 'Default distribution')\n",
    "    \n",
    "plt.ylabel('Random forest');  \n",
    "plt.xlabel('Calculated solubility');\n",
    "    \n",
    "#plt.legend(loc = 'upper right')"
   ]
  },
  {
   "cell_type": "markdown",
   "id": "083b7185-aa14-4769-8407-0eb2f6e15a76",
   "metadata": {
    "tags": []
   },
   "source": [
    "# Gradient Boosting Regression"
   ]
  },
  {
   "cell_type": "code",
   "execution_count": 131,
   "id": "b8cdc478-f684-48e7-8e1a-d6a647cf41c8",
   "metadata": {},
   "outputs": [
    {
     "name": "stdout",
     "output_type": "stream",
     "text": [
      "Cross-val general: 0.8088000000000001\n"
     ]
    }
   ],
   "source": [
    "type2 = 'Gradient Boosting (unvalidated)'\n",
    "\n",
    "GB_Reg2 = GradientBoostingRegressor(random_state=seed)\n",
    "\n",
    "GB_Reg2.fit(train_x, train_y.numpy().ravel())\n",
    "\n",
    "CV_GB2 = cross_validate(GB_Reg2, train_x, train_y.numpy().ravel(), cv=5)\n",
    "\n",
    "CV_GB2['test_score'] = np.around(CV_GB2['test_score'], 3)\n",
    "\n",
    "CV_GB2 = np.mean(CV_GB2['test_score'])\n",
    "#sorted(cv_results.keys())\n",
    "print('Cross-val general:', CV_GB2)"
   ]
  },
  {
   "cell_type": "code",
   "execution_count": 132,
   "id": "657c43f5-dc77-4b9c-9e93-21826bb4363a",
   "metadata": {},
   "outputs": [
    {
     "name": "stdout",
     "output_type": "stream",
     "text": [
      "Accuracy: 84.241%\n"
     ]
    }
   ],
   "source": [
    "GB_Reg2 = GB_Reg2.predict(test_x)\n",
    "\n",
    "accuracy_GB2 = sklearn.metrics.r2_score(test_y.detach().numpy(), GB_Reg2) \n",
    "\n",
    "accuracy_GB2 = (round(accuracy_GB2*100, 3))\n",
    "\n",
    "print(\"Accuracy: %a\"%accuracy_GB2 + \"%\") "
   ]
  },
  {
   "cell_type": "code",
   "execution_count": 133,
   "id": "21815166-64e2-4c2a-834f-588f60f9e1c0",
   "metadata": {},
   "outputs": [
    {
     "data": {
      "image/png": "[encoded data removed]",
      "text/plain": [
       "<Figure size 720x504 with 1 Axes>"
      ]
     },
     "metadata": {
      "needs_background": "light"
     },
     "output_type": "display_data"
    }
   ],
   "source": [
    "plt.plot(test_y.numpy(), GB_Reg2, 'o', c = 'b')  \n",
    "\n",
    "plt.ylabel('Gradient Boosting');  \n",
    "plt.xlabel('Calculated solubility');\n",
    "    \n",
    "#plt.legend(loc = 'upper right')"
   ]
  },
  {
   "cell_type": "markdown",
   "id": "45e08c53-f6d5-47b0-b756-409be3fcd979",
   "metadata": {
    "tags": []
   },
   "source": [
    "# Bagging Regressor"
   ]
  },
  {
   "cell_type": "code",
   "execution_count": 134,
   "id": "0dd44003-be58-42bd-9c6f-a5a794b8ee78",
   "metadata": {},
   "outputs": [
    {
     "name": "stdout",
     "output_type": "stream",
     "text": [
      "Cross-val general: 0.8108000000000001\n"
     ]
    }
   ],
   "source": [
    "type3 = 'Bagging'\n",
    "\n",
    "Bag_Reg = BaggingRegressor(random_state=seed)  #(n_estimators=100, max_samples=15, random_state=seed, warm_start=True)\n",
    "\n",
    "Bag_Reg.fit(train_x, train_y.numpy().ravel())\n",
    "\n",
    "CV_Bag = cross_validate(Bag_Reg, train_x, train_y.numpy().ravel(), cv=5)\n",
    "\n",
    "CV_Bag['test_score'] = np.around(CV_Bag['test_score'], 3)\n",
    "\n",
    "CV_Bag = np.mean(CV_Bag['test_score'])\n",
    "#sorted(cv_results.keys())\n",
    "print('Cross-val general:', CV_Bag)"
   ]
  },
  {
   "cell_type": "code",
   "execution_count": 135,
   "id": "9ee2695c-6f13-4746-aeb8-c7712d707d65",
   "metadata": {},
   "outputs": [
    {
     "name": "stdout",
     "output_type": "stream",
     "text": [
      "Accuracy: 83.383%\n"
     ]
    }
   ],
   "source": [
    "Bag_Reg = Bag_Reg.predict(test_x)\n",
    "\n",
    "accuracy_Bag = sklearn.metrics.r2_score(test_y.detach().numpy(), Bag_Reg) \n",
    "\n",
    "accuracy_Bag=(round(accuracy_Bag*100, 3))\n",
    "\n",
    "print(\"Accuracy: %a\"%accuracy_Bag + \"%\") "
   ]
  },
  {
   "cell_type": "code",
   "execution_count": 136,
   "id": "2ec66cde-66b3-4dbd-825f-f313089b16ce",
   "metadata": {},
   "outputs": [
    {
     "data": {
      "image/png": "[encoded data removed]",
      "text/plain": [
       "<Figure size 720x504 with 1 Axes>"
      ]
     },
     "metadata": {
      "needs_background": "light"
     },
     "output_type": "display_data"
    }
   ],
   "source": [
    "plt.plot(test_y.numpy(), Bag_Reg, 'o', c = 'b')  \n",
    "\n",
    "plt.ylabel('Bagging regression');  \n",
    "plt.xlabel('Calculated solubility');\n",
    "    \n",
    "#plt.legend(loc = 'upper right')"
   ]
  },
  {
   "cell_type": "markdown",
   "id": "6ad888df-a4f7-4b34-8a73-fc81d7733021",
   "metadata": {},
   "source": [
    "# Neural network"
   ]
  },
  {
   "cell_type": "code",
   "execution_count": 137,
   "id": "747394a1-2559-4a47-bcf2-0d2f42228486",
   "metadata": {},
   "outputs": [],
   "source": [
    "type4 = 'Neural network'\n",
    "\n",
    "# attribute \"dim\" reflects number of input features obtained from smiles (we declare it before in \"Data processing\" unit)\n",
    "\n",
    "class Neural_net(torch.nn.Module):                \n",
    "    \n",
    "    def __init__(self, n_hide_n):                       \n",
    "        \n",
    "        super(Neural_net, self).__init__()                \n",
    "        \n",
    "        self.fc1 = torch.nn.Linear(dim, n_hide_n)          \n",
    "        \n",
    "        self.act1 = torch.nn.Tanh() \n",
    "        \n",
    "        self.fc2 = torch.nn.Linear(n_hide_n, n_hide_n)\n",
    "                \n",
    "        self.act2 = torch.nn.Tanh() \n",
    "        \n",
    "        self.fc3 = torch.nn.Linear(n_hide_n, 1)\n",
    "\n",
    "    def forward(self, x):\n",
    "        \n",
    "        x = self.fc1(x)\n",
    "        \n",
    "        x = self.act1(x)\n",
    "        \n",
    "        x = self.fc2(x)\n",
    "        \n",
    "        x = self.act2(x)\n",
    "        \n",
    "        x = self.fc3(x)\n",
    "        \n",
    "        return x"
   ]
  },
  {
   "cell_type": "code",
   "execution_count": 138,
   "id": "d5b7491d-4159-4ff2-9a47-6d9739a73e20",
   "metadata": {},
   "outputs": [],
   "source": [
    "neurons = 19\n",
    "\n",
    "network = Neural_net(neurons)\n",
    "\n",
    "def Predict(net, x, y):\n",
    "    \n",
    "    y_pred = net.forward(x)\n",
    "      \n",
    "    plt.plot(y.numpy(), y_pred.data.numpy(), 'o', c = 'r')\n",
    "    \n",
    "    plt.ylabel('Network prediction')  \n",
    "    \n",
    "    plt.xlabel('Calculated solubility')\n",
    "    \n",
    "    #plt.legend(loc = 'upper right')\n",
    "       \n",
    "    \n",
    "def loss(pred, true):   # MSE\n",
    "    \n",
    "    sq = (pred-true)**2    \n",
    "\n",
    "    return sq.mean()"
   ]
  },
  {
   "cell_type": "code",
   "execution_count": 139,
   "id": "a43db259-fc1d-447d-8fb0-24dc59183301",
   "metadata": {},
   "outputs": [
    {
     "data": {
      "image/png": "[encoded data removed]",
      "text/plain": [
       "<Figure size 720x504 with 1 Axes>"
      ]
     },
     "metadata": {
      "needs_background": "light"
     },
     "output_type": "display_data"
    }
   ],
   "source": [
    "Predict(network, test_x, test_y)"
   ]
  },
  {
   "cell_type": "code",
   "execution_count": 140,
   "id": "f9577947-7292-4e90-972f-b0d59ad39a14",
   "metadata": {},
   "outputs": [
    {
     "name": "stdout",
     "output_type": "stream",
     "text": [
      "tensor(26.1839, grad_fn=<MeanBackward0>)\n",
      "tensor(3.0814, grad_fn=<MeanBackward0>)\n",
      "tensor(2.2933, grad_fn=<MeanBackward0>)\n",
      "tensor(1.6723, grad_fn=<MeanBackward0>)\n",
      "tensor(1.2498, grad_fn=<MeanBackward0>)\n"
     ]
    }
   ],
   "source": [
    "epoch = 10000\n",
    "\n",
    "optimizer = torch.optim.Adamax(network.parameters(), lr=0.0007)\n",
    "\n",
    "for e in range(epoch):\n",
    "    \n",
    "    optimizer.zero_grad() \n",
    "\n",
    "    y_pred = network.forward(train_x)\n",
    "    \n",
    "    loss_val = loss(y_pred, train_y)\n",
    "\n",
    "    loss_val.backward()\n",
    "    \n",
    "    optimizer.step()\n",
    "    \n",
    "    if not e % (epoch//5):\n",
    "        print(loss_val)"
   ]
  },
  {
   "cell_type": "code",
   "execution_count": 141,
   "id": "2225d6ce-9829-4691-9229-080979067f00",
   "metadata": {},
   "outputs": [
    {
     "name": "stdout",
     "output_type": "stream",
     "text": [
      "Accuracy: 94.802%\n"
     ]
    }
   ],
   "source": [
    "# we call .detach() to \"detach(delete)\" the computational graphs layer (that the tensors' feature, which is unlike from ndarray)     \n",
    "accuracy = sklearn.metrics.r2_score(train_y.detach().numpy(), y_pred.detach().numpy())  \n",
    "accuracy = round(accuracy*100, 3)\n",
    "print(\"Accuracy: %a\"%(accuracy) + \"%\") "
   ]
  },
  {
   "cell_type": "code",
   "execution_count": 142,
   "id": "f6125a90-f263-42cd-a58b-7acd28ea9d1d",
   "metadata": {},
   "outputs": [
    {
     "data": {
      "image/png": "[encoded data removed]",
      "text/plain": [
       "<Figure size 720x504 with 1 Axes>"
      ]
     },
     "metadata": {
      "needs_background": "light"
     },
     "output_type": "display_data"
    }
   ],
   "source": [
    "Predict(network, test_x, test_y)"
   ]
  },
  {
   "cell_type": "markdown",
   "id": "a7c05a18-0aba-4417-a0c0-e8acbae0cf23",
   "metadata": {},
   "source": [
    "# Models scores comparison"
   ]
  },
  {
   "cell_type": "code",
   "execution_count": 143,
   "id": "cb4f0484-25d0-47f8-b2cc-ba39edf5b799",
   "metadata": {},
   "outputs": [
    {
     "data": {
      "text/html": [
       "<div>\n",
       "<style scoped>\n",
       "    .dataframe tbody tr th:only-of-type {\n",
       "        vertical-align: middle;\n",
       "    }\n",
       "\n",
       "    .dataframe tbody tr th {\n",
       "        vertical-align: top;\n",
       "    }\n",
       "\n",
       "    .dataframe thead th {\n",
       "        text-align: right;\n",
       "    }\n",
       "</style>\n",
       "<table border=\"1\" class=\"dataframe\">\n",
       "  <thead>\n",
       "    <tr style=\"text-align: right;\">\n",
       "      <th></th>\n",
       "      <th>Regression type</th>\n",
       "      <th>Accuracy, %</th>\n",
       "    </tr>\n",
       "  </thead>\n",
       "  <tbody>\n",
       "    <tr>\n",
       "      <th>0</th>\n",
       "      <td>Random Forest</td>\n",
       "      <td>87.170</td>\n",
       "    </tr>\n",
       "    <tr>\n",
       "      <th>1</th>\n",
       "      <td>Gradient Boosting (unvalidated)</td>\n",
       "      <td>84.241</td>\n",
       "    </tr>\n",
       "    <tr>\n",
       "      <th>2</th>\n",
       "      <td>Bagging</td>\n",
       "      <td>83.383</td>\n",
       "    </tr>\n",
       "    <tr>\n",
       "      <th>3</th>\n",
       "      <td>Neural network</td>\n",
       "      <td>94.802</td>\n",
       "    </tr>\n",
       "  </tbody>\n",
       "</table>\n",
       "</div>"
      ],
      "text/plain": [
       "                   Regression type  Accuracy, %\n",
       "0                    Random Forest       87.170\n",
       "1  Gradient Boosting (unvalidated)       84.241\n",
       "2                          Bagging       83.383\n",
       "3                   Neural network       94.802"
      ]
     },
     "execution_count": 143,
     "metadata": {},
     "output_type": "execute_result"
    }
   ],
   "source": [
    "regscore_df = pd.DataFrame({'Regression type': [type1, type2, type3, type4], 'Accuracy, %': [accuracy_RF, accuracy_GB2, accuracy_Bag, accuracy]})\n",
    "\n",
    "regscore_df"
   ]
  }
 ],
 "metadata": {
  "kernelspec": {
   "display_name": "Python 3 (ipykernel)",
   "language": "python",
   "name": "python3"
  },
  "language_info": {
   "codemirror_mode": {
    "name": "ipython",
    "version": 3
   },
   "file_extension": ".py",
   "mimetype": "text/x-python",
   "name": "python",
   "nbconvert_exporter": "python",
   "pygments_lexer": "ipython3",
   "version": "3.9.12"
  },
  "toc-autonumbering": true,
  "toc-showcode": false,
  "toc-showmarkdowntxt": false,
  "toc-showtags": false
 },
 "nbformat": 4,
 "nbformat_minor": 5
}
